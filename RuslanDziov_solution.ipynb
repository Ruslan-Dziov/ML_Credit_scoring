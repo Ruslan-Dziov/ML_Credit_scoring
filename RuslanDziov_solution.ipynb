{
 "cells": [
  {
   "cell_type": "markdown",
   "id": "1a522f54",
   "metadata": {},
   "source": [
    "### **Построение модели кредитного скоринга**\n",
    "**Постановка задачи**"
   ]
  },
  {
   "cell_type": "markdown",
   "id": "486aaa9e",
   "metadata": {},
   "source": [
    "**Задача**\n",
    "\n",
    "Требуется, на основании имеющихся данных о клиентах банка, построить модель, используя обучающий датасет, для прогнозирования невыполнения долговых обязательств по текущему кредиту. Выполнить прогноз для примеров из тестового датасета.\n",
    "\n",
    "**Наименование файлов с данными**\n",
    "\n",
    "course_project_train.csv - обучающий датасет<br>\n",
    "course_project_test.csv - тестовый датасет\n",
    "\n",
    "**Целевая переменная**\n",
    "\n",
    "Credit Default - факт невыполнения кредитных обязательств\n",
    "\n",
    "**Метрика качества**\n",
    "\n",
    "F1-score (sklearn.metrics.f1_score)\n",
    "\n",
    "**Требования к решению**\n",
    "\n",
    "*Целевая метрика*\n",
    "* F1 > 0.5\n",
    "* Метрика оценивается по качеству прогноза для главного класса (1 - просрочка по кредиту)\n",
    "\n",
    "*Решение должно содержать*\n",
    "1. Тетрадка Jupyter Notebook с кодом Вашего решения, названная по образцу {ФИО}\\_solution.ipynb, пример SShirkin\\_solution.ipynb\n",
    "2. Файл CSV с прогнозами целевой переменной для тестового датасета, названный по образцу {ФИО}\\_predictions.csv, пример SShirkin\\_predictions.csv\n",
    "\n",
    "*Рекомендации для файла с кодом (ipynb)*\n",
    "1. Файл должен содержать заголовки и комментарии (markdown)\n",
    "2. Повторяющиеся операции лучше оформлять в виде функций\n",
    "3. Не делать вывод большого количества строк таблиц (5-10 достаточно)\n",
    "4. По возможности добавлять графики, описывающие данные (около 3-5)\n",
    "5. Добавлять только лучшую модель, то есть не включать в код все варианты решения проекта\n",
    "6. Скрипт проекта должен отрабатывать от начала и до конца (от загрузки данных до выгрузки предсказаний)\n",
    "7. Весь проект должен быть в одном скрипте (файл ipynb).\n",
    "8. Допускается применение библиотек Python и моделей машинного обучения,\n",
    "которые были в данном курсе.\n",
    "\n",
    "**Сроки сдачи**\n",
    "\n",
    "Cдать проект нужно в течение 5 дней после окончания последнего вебинара.\n",
    "Оценки работ, сданных до дедлайна, будут представлены в виде рейтинга, ранжированного по заданной метрике качества.\n",
    "Проекты, сданные после дедлайна или сданные повторно, не попадают в рейтинг, но можно будет узнать результат."
   ]
  },
  {
   "cell_type": "markdown",
   "id": "eb702a38",
   "metadata": {},
   "source": [
    "### **Описание этапов выполнения проектов**"
   ]
  },
  {
   "cell_type": "markdown",
   "id": "216bf5db",
   "metadata": {},
   "source": [
    "**Построение модели классификации**\n",
    "1. Обзор обучающего датасета\n",
    "2. Обработка выбросов\n",
    "3. Обработка пропусков\n",
    "4. Анализ данных\n",
    "5. Отбор признаков\n",
    "6. Балансировка классов\n",
    "7. Подбор моделей, получение бейзлана\n",
    "8. Выбор наилучшей модели, настройка гиперпараметров\n",
    "9. Проверка качества, борьба с переобучением\n",
    "10. Интерпретация результатов\n",
    "\n",
    "**Прогнозирование на тестовом датасете**\n",
    "1. Выполнить для тестового датасета те же этапы обработки и постронияния признаков\n",
    "2. Спрогнозировать целевую переменную, используя модель, построенную на обучающем датасете\n",
    "3. Прогнозы должны быть для всех примеров из тестового датасета (для всех строк)\n",
    "4. Соблюдать исходный порядок примеров из тестового датасета"
   ]
  },
  {
   "cell_type": "markdown",
   "id": "116b295f",
   "metadata": {},
   "source": [
    "### **Обзор данных**"
   ]
  },
  {
   "cell_type": "markdown",
   "id": "974e9fbc",
   "metadata": {},
   "source": [
    "**Пути к директориям файлов**"
   ]
  },
  {
   "cell_type": "code",
   "execution_count": 414,
   "id": "dc4ea38e",
   "metadata": {},
   "outputs": [],
   "source": [
    "#input\n",
    "TRAIN_DATASET_PATH = '/home/red/Documents/course_project_train.csv'\n",
    "TEST_DATASET_PATH = '/home/red/Documents/course_project_test.csv'\n",
    "\n",
    "#output\n",
    "MODEL_FILE_PATH = '/home/red/Documents/model.pkl'"
   ]
  },
  {
   "cell_type": "markdown",
   "id": "21be056c",
   "metadata": {},
   "source": [
    "**Подключение библиотек и скриптов**"
   ]
  },
  {
   "cell_type": "code",
   "execution_count": 415,
   "id": "0d060468",
   "metadata": {},
   "outputs": [],
   "source": [
    "import pandas as pd\n",
    "import numpy as np\n",
    "\n",
    "import pickle\n",
    "\n",
    "from scipy.stats import mode\n",
    "from scipy import stats\n",
    "\n",
    "from sklearn.model_selection import GridSearchCV\n",
    "from sklearn.preprocessing import StandardScaler, RobustScaler, MinMaxScaler\n",
    "from sklearn.model_selection import train_test_split, ShuffleSplit, cross_val_score, learning_curve\n",
    "from sklearn.metrics import classification_report, f1_score, precision_score, recall_score\n",
    "from sklearn.model_selection import KFold, GridSearchCV, RandomizedSearchCV\n",
    "from sklearn.linear_model import LogisticRegression\n",
    "from sklearn.neighbors import KNeighborsClassifier\n",
    "\n",
    "import matplotlib\n",
    "import matplotlib.image as img\n",
    "import xgboost as xgb\n",
    "import catboost as catb\n",
    "import lightgbm as lgbm\n",
    "\n",
    "import seaborn as sns\n",
    "from matplotlib import pyplot as plt\n",
    "import missingno as miss\n",
    "%matplotlib inline\n",
    "\n",
    "import warnings\n",
    "warnings.filterwarnings('ignore')"
   ]
  },
  {
   "cell_type": "code",
   "execution_count": 416,
   "id": "08a53c04",
   "metadata": {},
   "outputs": [],
   "source": [
    "def dummies_short_long(df, col_name, new_col_name):\n",
    "    df[new_col_name] = df[col_name].replace({'Short Term':0, 'Long Term':1})\n",
    "    return df[new_col_name]"
   ]
  },
  {
   "cell_type": "code",
   "execution_count": 417,
   "id": "78484ab0",
   "metadata": {},
   "outputs": [],
   "source": [
    "def balance_df_by_target(df, target_name):\n",
    "\n",
    "    target_counts = df[target_name].value_counts()\n",
    "\n",
    "    major_class_name = target_counts.argmax()\n",
    "    minor_class_name = target_counts.argmin()\n",
    "\n",
    "    disbalance_coeff = int(target_counts[major_class_name] / target_counts[minor_class_name]) - 1\n",
    "\n",
    "    for i in range(disbalance_coeff):\n",
    "        sample = df[df[target_name] == minor_class_name].sample(target_counts[minor_class_name])\n",
    "        df = df.append(sample, ignore_index=True)\n",
    "\n",
    "    return df.sample(frac=1) "
   ]
  },
  {
   "cell_type": "code",
   "execution_count": 418,
   "id": "29853674",
   "metadata": {},
   "outputs": [],
   "source": [
    "def get_classification_report(y_train_true, y_train_pred, y_test_true, y_test_pred):\n",
    "    print('TRAIN\\n\\n' + classification_report(y_train_true, y_train_pred))\n",
    "    print('TEST\\n\\n' + classification_report(y_test_true, y_test_pred))\n",
    "    print('CONFUSION MATRIX\\n')\n",
    "    print(pd.crosstab(y_test_true, y_test_pred))"
   ]
  },
  {
   "cell_type": "markdown",
   "id": "76815701",
   "metadata": {},
   "source": [
    "**Описание датасета**\n",
    "\n",
    "* **Home Ownership** - домовладение\n",
    "* **Annual Income** - годовой доход\n",
    "* **Years in current job** - количество лет на текущем месте работы\n",
    "* **Tax Liens** - налоговые обременения\n",
    "* **Number of Open Accounts** - количество открытых счетов\n",
    "* **Years of Credit History** - количество лет кредитной истории\n",
    "* **Maximum Open Credit** - наибольший открытый кредит\n",
    "* **Number of Credit Problems** - количество проблем с кредитом\n",
    "* **Months since last delinquent** - количество месяцев с последней просрочки платежа\n",
    "* **Bankruptcies** - банкротства\n",
    "* **Purpose** - цель кредита\n",
    "* **Term** - срок кредита\n",
    "* **Current Loan Amount** - текущая сумма кредита\n",
    "* **Current Credit Balance** - текущий кредитный баланс\n",
    "* **Monthly Debt** - ежемесячный долг\n",
    "* **Credit Default** - факт невыполнения кредитных обязательств (0 - погашен вовремя, 1 - просрочка)"
   ]
  },
  {
   "cell_type": "markdown",
   "id": "b1b5254f",
   "metadata": {},
   "source": [
    "**Загрузка данных**"
   ]
  },
  {
   "cell_type": "code",
   "execution_count": 419,
   "id": "cf4f2a3f",
   "metadata": {},
   "outputs": [
    {
     "data": {
      "text/html": [
       "<div>\n",
       "<style scoped>\n",
       "    .dataframe tbody tr th:only-of-type {\n",
       "        vertical-align: middle;\n",
       "    }\n",
       "\n",
       "    .dataframe tbody tr th {\n",
       "        vertical-align: top;\n",
       "    }\n",
       "\n",
       "    .dataframe thead th {\n",
       "        text-align: right;\n",
       "    }\n",
       "</style>\n",
       "<table border=\"1\" class=\"dataframe\">\n",
       "  <thead>\n",
       "    <tr style=\"text-align: right;\">\n",
       "      <th></th>\n",
       "      <th>Home Ownership</th>\n",
       "      <th>Annual Income</th>\n",
       "      <th>Years in current job</th>\n",
       "      <th>Tax Liens</th>\n",
       "      <th>Number of Open Accounts</th>\n",
       "      <th>Years of Credit History</th>\n",
       "      <th>Maximum Open Credit</th>\n",
       "      <th>Number of Credit Problems</th>\n",
       "      <th>Months since last delinquent</th>\n",
       "      <th>Bankruptcies</th>\n",
       "      <th>Purpose</th>\n",
       "      <th>Term</th>\n",
       "      <th>Current Loan Amount</th>\n",
       "      <th>Current Credit Balance</th>\n",
       "      <th>Monthly Debt</th>\n",
       "      <th>Credit Score</th>\n",
       "      <th>Credit Default</th>\n",
       "    </tr>\n",
       "  </thead>\n",
       "  <tbody>\n",
       "    <tr>\n",
       "      <th>0</th>\n",
       "      <td>Own Home</td>\n",
       "      <td>482087.0</td>\n",
       "      <td>NaN</td>\n",
       "      <td>0.0</td>\n",
       "      <td>11.0</td>\n",
       "      <td>26.3</td>\n",
       "      <td>685960.0</td>\n",
       "      <td>1.0</td>\n",
       "      <td>NaN</td>\n",
       "      <td>1.0</td>\n",
       "      <td>debt consolidation</td>\n",
       "      <td>Short Term</td>\n",
       "      <td>99999999.0</td>\n",
       "      <td>47386.0</td>\n",
       "      <td>7914.0</td>\n",
       "      <td>749.0</td>\n",
       "      <td>0</td>\n",
       "    </tr>\n",
       "    <tr>\n",
       "      <th>1</th>\n",
       "      <td>Own Home</td>\n",
       "      <td>1025487.0</td>\n",
       "      <td>10+ years</td>\n",
       "      <td>0.0</td>\n",
       "      <td>15.0</td>\n",
       "      <td>15.3</td>\n",
       "      <td>1181730.0</td>\n",
       "      <td>0.0</td>\n",
       "      <td>NaN</td>\n",
       "      <td>0.0</td>\n",
       "      <td>debt consolidation</td>\n",
       "      <td>Long Term</td>\n",
       "      <td>264968.0</td>\n",
       "      <td>394972.0</td>\n",
       "      <td>18373.0</td>\n",
       "      <td>737.0</td>\n",
       "      <td>1</td>\n",
       "    </tr>\n",
       "    <tr>\n",
       "      <th>2</th>\n",
       "      <td>Home Mortgage</td>\n",
       "      <td>751412.0</td>\n",
       "      <td>8 years</td>\n",
       "      <td>0.0</td>\n",
       "      <td>11.0</td>\n",
       "      <td>35.0</td>\n",
       "      <td>1182434.0</td>\n",
       "      <td>0.0</td>\n",
       "      <td>NaN</td>\n",
       "      <td>0.0</td>\n",
       "      <td>debt consolidation</td>\n",
       "      <td>Short Term</td>\n",
       "      <td>99999999.0</td>\n",
       "      <td>308389.0</td>\n",
       "      <td>13651.0</td>\n",
       "      <td>742.0</td>\n",
       "      <td>0</td>\n",
       "    </tr>\n",
       "    <tr>\n",
       "      <th>3</th>\n",
       "      <td>Own Home</td>\n",
       "      <td>805068.0</td>\n",
       "      <td>6 years</td>\n",
       "      <td>0.0</td>\n",
       "      <td>8.0</td>\n",
       "      <td>22.5</td>\n",
       "      <td>147400.0</td>\n",
       "      <td>1.0</td>\n",
       "      <td>NaN</td>\n",
       "      <td>1.0</td>\n",
       "      <td>debt consolidation</td>\n",
       "      <td>Short Term</td>\n",
       "      <td>121396.0</td>\n",
       "      <td>95855.0</td>\n",
       "      <td>11338.0</td>\n",
       "      <td>694.0</td>\n",
       "      <td>0</td>\n",
       "    </tr>\n",
       "    <tr>\n",
       "      <th>4</th>\n",
       "      <td>Rent</td>\n",
       "      <td>776264.0</td>\n",
       "      <td>8 years</td>\n",
       "      <td>0.0</td>\n",
       "      <td>13.0</td>\n",
       "      <td>13.6</td>\n",
       "      <td>385836.0</td>\n",
       "      <td>1.0</td>\n",
       "      <td>NaN</td>\n",
       "      <td>0.0</td>\n",
       "      <td>debt consolidation</td>\n",
       "      <td>Short Term</td>\n",
       "      <td>125840.0</td>\n",
       "      <td>93309.0</td>\n",
       "      <td>7180.0</td>\n",
       "      <td>719.0</td>\n",
       "      <td>0</td>\n",
       "    </tr>\n",
       "  </tbody>\n",
       "</table>\n",
       "</div>"
      ],
      "text/plain": [
       "  Home Ownership  Annual Income Years in current job  Tax Liens  \\\n",
       "0       Own Home       482087.0                  NaN        0.0   \n",
       "1       Own Home      1025487.0            10+ years        0.0   \n",
       "2  Home Mortgage       751412.0              8 years        0.0   \n",
       "3       Own Home       805068.0              6 years        0.0   \n",
       "4           Rent       776264.0              8 years        0.0   \n",
       "\n",
       "   Number of Open Accounts  Years of Credit History  Maximum Open Credit  \\\n",
       "0                     11.0                     26.3             685960.0   \n",
       "1                     15.0                     15.3            1181730.0   \n",
       "2                     11.0                     35.0            1182434.0   \n",
       "3                      8.0                     22.5             147400.0   \n",
       "4                     13.0                     13.6             385836.0   \n",
       "\n",
       "   Number of Credit Problems  Months since last delinquent  Bankruptcies  \\\n",
       "0                        1.0                           NaN           1.0   \n",
       "1                        0.0                           NaN           0.0   \n",
       "2                        0.0                           NaN           0.0   \n",
       "3                        1.0                           NaN           1.0   \n",
       "4                        1.0                           NaN           0.0   \n",
       "\n",
       "              Purpose        Term  Current Loan Amount  \\\n",
       "0  debt consolidation  Short Term           99999999.0   \n",
       "1  debt consolidation   Long Term             264968.0   \n",
       "2  debt consolidation  Short Term           99999999.0   \n",
       "3  debt consolidation  Short Term             121396.0   \n",
       "4  debt consolidation  Short Term             125840.0   \n",
       "\n",
       "   Current Credit Balance  Monthly Debt  Credit Score  Credit Default  \n",
       "0                 47386.0        7914.0         749.0               0  \n",
       "1                394972.0       18373.0         737.0               1  \n",
       "2                308389.0       13651.0         742.0               0  \n",
       "3                 95855.0       11338.0         694.0               0  \n",
       "4                 93309.0        7180.0         719.0               0  "
      ]
     },
     "execution_count": 419,
     "metadata": {},
     "output_type": "execute_result"
    }
   ],
   "source": [
    "df_train = pd.read_csv(TRAIN_DATASET_PATH)\n",
    "df_train.head()"
   ]
  },
  {
   "cell_type": "code",
   "execution_count": 420,
   "id": "635af880",
   "metadata": {},
   "outputs": [
    {
     "data": {
      "text/html": [
       "<div>\n",
       "<style scoped>\n",
       "    .dataframe tbody tr th:only-of-type {\n",
       "        vertical-align: middle;\n",
       "    }\n",
       "\n",
       "    .dataframe tbody tr th {\n",
       "        vertical-align: top;\n",
       "    }\n",
       "\n",
       "    .dataframe thead th {\n",
       "        text-align: right;\n",
       "    }\n",
       "</style>\n",
       "<table border=\"1\" class=\"dataframe\">\n",
       "  <thead>\n",
       "    <tr style=\"text-align: right;\">\n",
       "      <th></th>\n",
       "      <th>Home Ownership</th>\n",
       "      <th>Annual Income</th>\n",
       "      <th>Years in current job</th>\n",
       "      <th>Tax Liens</th>\n",
       "      <th>Number of Open Accounts</th>\n",
       "      <th>Years of Credit History</th>\n",
       "      <th>Maximum Open Credit</th>\n",
       "      <th>Number of Credit Problems</th>\n",
       "      <th>Months since last delinquent</th>\n",
       "      <th>Bankruptcies</th>\n",
       "      <th>Purpose</th>\n",
       "      <th>Term</th>\n",
       "      <th>Current Loan Amount</th>\n",
       "      <th>Current Credit Balance</th>\n",
       "      <th>Monthly Debt</th>\n",
       "      <th>Credit Score</th>\n",
       "      <th>Credit Default</th>\n",
       "    </tr>\n",
       "  </thead>\n",
       "  <tbody>\n",
       "    <tr>\n",
       "      <th>7495</th>\n",
       "      <td>Rent</td>\n",
       "      <td>402192.0</td>\n",
       "      <td>&lt; 1 year</td>\n",
       "      <td>0.0</td>\n",
       "      <td>3.0</td>\n",
       "      <td>8.5</td>\n",
       "      <td>107866.0</td>\n",
       "      <td>0.0</td>\n",
       "      <td>NaN</td>\n",
       "      <td>0.0</td>\n",
       "      <td>other</td>\n",
       "      <td>Short Term</td>\n",
       "      <td>129360.0</td>\n",
       "      <td>73492.0</td>\n",
       "      <td>1900.0</td>\n",
       "      <td>697.0</td>\n",
       "      <td>0</td>\n",
       "    </tr>\n",
       "    <tr>\n",
       "      <th>7496</th>\n",
       "      <td>Home Mortgage</td>\n",
       "      <td>1533984.0</td>\n",
       "      <td>1 year</td>\n",
       "      <td>0.0</td>\n",
       "      <td>10.0</td>\n",
       "      <td>26.5</td>\n",
       "      <td>686312.0</td>\n",
       "      <td>0.0</td>\n",
       "      <td>43.0</td>\n",
       "      <td>0.0</td>\n",
       "      <td>debt consolidation</td>\n",
       "      <td>Long Term</td>\n",
       "      <td>444048.0</td>\n",
       "      <td>456399.0</td>\n",
       "      <td>12783.0</td>\n",
       "      <td>7410.0</td>\n",
       "      <td>1</td>\n",
       "    </tr>\n",
       "    <tr>\n",
       "      <th>7497</th>\n",
       "      <td>Rent</td>\n",
       "      <td>1878910.0</td>\n",
       "      <td>6 years</td>\n",
       "      <td>0.0</td>\n",
       "      <td>12.0</td>\n",
       "      <td>32.1</td>\n",
       "      <td>1778920.0</td>\n",
       "      <td>0.0</td>\n",
       "      <td>NaN</td>\n",
       "      <td>0.0</td>\n",
       "      <td>buy a car</td>\n",
       "      <td>Short Term</td>\n",
       "      <td>99999999.0</td>\n",
       "      <td>477812.0</td>\n",
       "      <td>12479.0</td>\n",
       "      <td>748.0</td>\n",
       "      <td>0</td>\n",
       "    </tr>\n",
       "    <tr>\n",
       "      <th>7498</th>\n",
       "      <td>Home Mortgage</td>\n",
       "      <td>NaN</td>\n",
       "      <td>NaN</td>\n",
       "      <td>0.0</td>\n",
       "      <td>21.0</td>\n",
       "      <td>26.5</td>\n",
       "      <td>1141250.0</td>\n",
       "      <td>0.0</td>\n",
       "      <td>NaN</td>\n",
       "      <td>0.0</td>\n",
       "      <td>debt consolidation</td>\n",
       "      <td>Short Term</td>\n",
       "      <td>615274.0</td>\n",
       "      <td>476064.0</td>\n",
       "      <td>37118.0</td>\n",
       "      <td>NaN</td>\n",
       "      <td>0</td>\n",
       "    </tr>\n",
       "    <tr>\n",
       "      <th>7499</th>\n",
       "      <td>Rent</td>\n",
       "      <td>NaN</td>\n",
       "      <td>4 years</td>\n",
       "      <td>0.0</td>\n",
       "      <td>8.0</td>\n",
       "      <td>9.4</td>\n",
       "      <td>480832.0</td>\n",
       "      <td>0.0</td>\n",
       "      <td>NaN</td>\n",
       "      <td>0.0</td>\n",
       "      <td>debt consolidation</td>\n",
       "      <td>Short Term</td>\n",
       "      <td>26928.0</td>\n",
       "      <td>288192.0</td>\n",
       "      <td>9061.0</td>\n",
       "      <td>NaN</td>\n",
       "      <td>0</td>\n",
       "    </tr>\n",
       "  </tbody>\n",
       "</table>\n",
       "</div>"
      ],
      "text/plain": [
       "     Home Ownership  Annual Income Years in current job  Tax Liens  \\\n",
       "7495           Rent       402192.0             < 1 year        0.0   \n",
       "7496  Home Mortgage      1533984.0               1 year        0.0   \n",
       "7497           Rent      1878910.0              6 years        0.0   \n",
       "7498  Home Mortgage            NaN                  NaN        0.0   \n",
       "7499           Rent            NaN              4 years        0.0   \n",
       "\n",
       "      Number of Open Accounts  Years of Credit History  Maximum Open Credit  \\\n",
       "7495                      3.0                      8.5             107866.0   \n",
       "7496                     10.0                     26.5             686312.0   \n",
       "7497                     12.0                     32.1            1778920.0   \n",
       "7498                     21.0                     26.5            1141250.0   \n",
       "7499                      8.0                      9.4             480832.0   \n",
       "\n",
       "      Number of Credit Problems  Months since last delinquent  Bankruptcies  \\\n",
       "7495                        0.0                           NaN           0.0   \n",
       "7496                        0.0                          43.0           0.0   \n",
       "7497                        0.0                           NaN           0.0   \n",
       "7498                        0.0                           NaN           0.0   \n",
       "7499                        0.0                           NaN           0.0   \n",
       "\n",
       "                 Purpose        Term  Current Loan Amount  \\\n",
       "7495               other  Short Term             129360.0   \n",
       "7496  debt consolidation   Long Term             444048.0   \n",
       "7497           buy a car  Short Term           99999999.0   \n",
       "7498  debt consolidation  Short Term             615274.0   \n",
       "7499  debt consolidation  Short Term              26928.0   \n",
       "\n",
       "      Current Credit Balance  Monthly Debt  Credit Score  Credit Default  \n",
       "7495                 73492.0        1900.0         697.0               0  \n",
       "7496                456399.0       12783.0        7410.0               1  \n",
       "7497                477812.0       12479.0         748.0               0  \n",
       "7498                476064.0       37118.0           NaN               0  \n",
       "7499                288192.0        9061.0           NaN               0  "
      ]
     },
     "execution_count": 420,
     "metadata": {},
     "output_type": "execute_result"
    }
   ],
   "source": [
    "df_train.tail()"
   ]
  },
  {
   "cell_type": "code",
   "execution_count": 421,
   "id": "063f7b79",
   "metadata": {},
   "outputs": [
    {
     "data": {
      "text/plain": [
       "(7500, 17)"
      ]
     },
     "execution_count": 421,
     "metadata": {},
     "output_type": "execute_result"
    }
   ],
   "source": [
    "df_train.shape"
   ]
  },
  {
   "cell_type": "code",
   "execution_count": 422,
   "id": "aa46f91d",
   "metadata": {},
   "outputs": [
    {
     "name": "stdout",
     "output_type": "stream",
     "text": [
      "<class 'pandas.core.frame.DataFrame'>\n",
      "RangeIndex: 7500 entries, 0 to 7499\n",
      "Data columns (total 17 columns):\n",
      " #   Column                        Non-Null Count  Dtype  \n",
      "---  ------                        --------------  -----  \n",
      " 0   Home Ownership                7500 non-null   object \n",
      " 1   Annual Income                 5943 non-null   float64\n",
      " 2   Years in current job          7129 non-null   object \n",
      " 3   Tax Liens                     7500 non-null   float64\n",
      " 4   Number of Open Accounts       7500 non-null   float64\n",
      " 5   Years of Credit History       7500 non-null   float64\n",
      " 6   Maximum Open Credit           7500 non-null   float64\n",
      " 7   Number of Credit Problems     7500 non-null   float64\n",
      " 8   Months since last delinquent  3419 non-null   float64\n",
      " 9   Bankruptcies                  7486 non-null   float64\n",
      " 10  Purpose                       7500 non-null   object \n",
      " 11  Term                          7500 non-null   object \n",
      " 12  Current Loan Amount           7500 non-null   float64\n",
      " 13  Current Credit Balance        7500 non-null   float64\n",
      " 14  Monthly Debt                  7500 non-null   float64\n",
      " 15  Credit Score                  5943 non-null   float64\n",
      " 16  Credit Default                7500 non-null   int64  \n",
      "dtypes: float64(12), int64(1), object(4)\n",
      "memory usage: 996.2+ KB\n"
     ]
    }
   ],
   "source": [
    "df_train.info()"
   ]
  },
  {
   "cell_type": "markdown",
   "id": "31c8b825",
   "metadata": {},
   "source": [
    "**Пропуски данных в переменных:**\n",
    "1) Annual Income,<br>\n",
    "2) Years in current job,<br>\n",
    "3) Months since last delinquent,<br>\n",
    "4) Bankruptcies,<br>\n",
    "5) Credit Score"
   ]
  },
  {
   "cell_type": "code",
   "execution_count": 423,
   "id": "8416006f",
   "metadata": {},
   "outputs": [
    {
     "data": {
      "text/html": [
       "<div>\n",
       "<style scoped>\n",
       "    .dataframe tbody tr th:only-of-type {\n",
       "        vertical-align: middle;\n",
       "    }\n",
       "\n",
       "    .dataframe tbody tr th {\n",
       "        vertical-align: top;\n",
       "    }\n",
       "\n",
       "    .dataframe thead th {\n",
       "        text-align: right;\n",
       "    }\n",
       "</style>\n",
       "<table border=\"1\" class=\"dataframe\">\n",
       "  <thead>\n",
       "    <tr style=\"text-align: right;\">\n",
       "      <th></th>\n",
       "      <th>Annual Income</th>\n",
       "      <th>Tax Liens</th>\n",
       "      <th>Number of Open Accounts</th>\n",
       "      <th>Years of Credit History</th>\n",
       "      <th>Maximum Open Credit</th>\n",
       "      <th>Number of Credit Problems</th>\n",
       "      <th>Months since last delinquent</th>\n",
       "      <th>Bankruptcies</th>\n",
       "      <th>Current Loan Amount</th>\n",
       "      <th>Current Credit Balance</th>\n",
       "      <th>Monthly Debt</th>\n",
       "      <th>Credit Score</th>\n",
       "      <th>Credit Default</th>\n",
       "    </tr>\n",
       "  </thead>\n",
       "  <tbody>\n",
       "    <tr>\n",
       "      <th>count</th>\n",
       "      <td>5.943000e+03</td>\n",
       "      <td>7500.000000</td>\n",
       "      <td>7500.000000</td>\n",
       "      <td>7500.000000</td>\n",
       "      <td>7.500000e+03</td>\n",
       "      <td>7500.000000</td>\n",
       "      <td>3419.000000</td>\n",
       "      <td>7486.000000</td>\n",
       "      <td>7.500000e+03</td>\n",
       "      <td>7.500000e+03</td>\n",
       "      <td>7500.000000</td>\n",
       "      <td>5943.000000</td>\n",
       "      <td>7500.000000</td>\n",
       "    </tr>\n",
       "    <tr>\n",
       "      <th>mean</th>\n",
       "      <td>1.366392e+06</td>\n",
       "      <td>0.030133</td>\n",
       "      <td>11.130933</td>\n",
       "      <td>18.317467</td>\n",
       "      <td>9.451537e+05</td>\n",
       "      <td>0.170000</td>\n",
       "      <td>34.692600</td>\n",
       "      <td>0.117152</td>\n",
       "      <td>1.187318e+07</td>\n",
       "      <td>2.898332e+05</td>\n",
       "      <td>18314.454133</td>\n",
       "      <td>1151.087498</td>\n",
       "      <td>0.281733</td>\n",
       "    </tr>\n",
       "    <tr>\n",
       "      <th>std</th>\n",
       "      <td>8.453392e+05</td>\n",
       "      <td>0.271604</td>\n",
       "      <td>4.908924</td>\n",
       "      <td>7.041946</td>\n",
       "      <td>1.602622e+07</td>\n",
       "      <td>0.498598</td>\n",
       "      <td>21.688806</td>\n",
       "      <td>0.347192</td>\n",
       "      <td>3.192612e+07</td>\n",
       "      <td>3.178714e+05</td>\n",
       "      <td>11926.764673</td>\n",
       "      <td>1604.451418</td>\n",
       "      <td>0.449874</td>\n",
       "    </tr>\n",
       "    <tr>\n",
       "      <th>min</th>\n",
       "      <td>1.645970e+05</td>\n",
       "      <td>0.000000</td>\n",
       "      <td>2.000000</td>\n",
       "      <td>4.000000</td>\n",
       "      <td>0.000000e+00</td>\n",
       "      <td>0.000000</td>\n",
       "      <td>0.000000</td>\n",
       "      <td>0.000000</td>\n",
       "      <td>1.124200e+04</td>\n",
       "      <td>0.000000e+00</td>\n",
       "      <td>0.000000</td>\n",
       "      <td>585.000000</td>\n",
       "      <td>0.000000</td>\n",
       "    </tr>\n",
       "    <tr>\n",
       "      <th>25%</th>\n",
       "      <td>8.443410e+05</td>\n",
       "      <td>0.000000</td>\n",
       "      <td>8.000000</td>\n",
       "      <td>13.500000</td>\n",
       "      <td>2.792295e+05</td>\n",
       "      <td>0.000000</td>\n",
       "      <td>16.000000</td>\n",
       "      <td>0.000000</td>\n",
       "      <td>1.801690e+05</td>\n",
       "      <td>1.142565e+05</td>\n",
       "      <td>10067.500000</td>\n",
       "      <td>711.000000</td>\n",
       "      <td>0.000000</td>\n",
       "    </tr>\n",
       "    <tr>\n",
       "      <th>50%</th>\n",
       "      <td>1.168386e+06</td>\n",
       "      <td>0.000000</td>\n",
       "      <td>10.000000</td>\n",
       "      <td>17.000000</td>\n",
       "      <td>4.781590e+05</td>\n",
       "      <td>0.000000</td>\n",
       "      <td>32.000000</td>\n",
       "      <td>0.000000</td>\n",
       "      <td>3.095730e+05</td>\n",
       "      <td>2.093230e+05</td>\n",
       "      <td>16076.500000</td>\n",
       "      <td>731.000000</td>\n",
       "      <td>0.000000</td>\n",
       "    </tr>\n",
       "    <tr>\n",
       "      <th>75%</th>\n",
       "      <td>1.640137e+06</td>\n",
       "      <td>0.000000</td>\n",
       "      <td>14.000000</td>\n",
       "      <td>21.800000</td>\n",
       "      <td>7.935015e+05</td>\n",
       "      <td>0.000000</td>\n",
       "      <td>50.000000</td>\n",
       "      <td>0.000000</td>\n",
       "      <td>5.198820e+05</td>\n",
       "      <td>3.604062e+05</td>\n",
       "      <td>23818.000000</td>\n",
       "      <td>743.000000</td>\n",
       "      <td>1.000000</td>\n",
       "    </tr>\n",
       "    <tr>\n",
       "      <th>max</th>\n",
       "      <td>1.014934e+07</td>\n",
       "      <td>7.000000</td>\n",
       "      <td>43.000000</td>\n",
       "      <td>57.700000</td>\n",
       "      <td>1.304726e+09</td>\n",
       "      <td>7.000000</td>\n",
       "      <td>118.000000</td>\n",
       "      <td>4.000000</td>\n",
       "      <td>1.000000e+08</td>\n",
       "      <td>6.506797e+06</td>\n",
       "      <td>136679.000000</td>\n",
       "      <td>7510.000000</td>\n",
       "      <td>1.000000</td>\n",
       "    </tr>\n",
       "  </tbody>\n",
       "</table>\n",
       "</div>"
      ],
      "text/plain": [
       "       Annual Income    Tax Liens  Number of Open Accounts  \\\n",
       "count   5.943000e+03  7500.000000              7500.000000   \n",
       "mean    1.366392e+06     0.030133                11.130933   \n",
       "std     8.453392e+05     0.271604                 4.908924   \n",
       "min     1.645970e+05     0.000000                 2.000000   \n",
       "25%     8.443410e+05     0.000000                 8.000000   \n",
       "50%     1.168386e+06     0.000000                10.000000   \n",
       "75%     1.640137e+06     0.000000                14.000000   \n",
       "max     1.014934e+07     7.000000                43.000000   \n",
       "\n",
       "       Years of Credit History  Maximum Open Credit  \\\n",
       "count              7500.000000         7.500000e+03   \n",
       "mean                 18.317467         9.451537e+05   \n",
       "std                   7.041946         1.602622e+07   \n",
       "min                   4.000000         0.000000e+00   \n",
       "25%                  13.500000         2.792295e+05   \n",
       "50%                  17.000000         4.781590e+05   \n",
       "75%                  21.800000         7.935015e+05   \n",
       "max                  57.700000         1.304726e+09   \n",
       "\n",
       "       Number of Credit Problems  Months since last delinquent  Bankruptcies  \\\n",
       "count                7500.000000                   3419.000000   7486.000000   \n",
       "mean                    0.170000                     34.692600      0.117152   \n",
       "std                     0.498598                     21.688806      0.347192   \n",
       "min                     0.000000                      0.000000      0.000000   \n",
       "25%                     0.000000                     16.000000      0.000000   \n",
       "50%                     0.000000                     32.000000      0.000000   \n",
       "75%                     0.000000                     50.000000      0.000000   \n",
       "max                     7.000000                    118.000000      4.000000   \n",
       "\n",
       "       Current Loan Amount  Current Credit Balance   Monthly Debt  \\\n",
       "count         7.500000e+03            7.500000e+03    7500.000000   \n",
       "mean          1.187318e+07            2.898332e+05   18314.454133   \n",
       "std           3.192612e+07            3.178714e+05   11926.764673   \n",
       "min           1.124200e+04            0.000000e+00       0.000000   \n",
       "25%           1.801690e+05            1.142565e+05   10067.500000   \n",
       "50%           3.095730e+05            2.093230e+05   16076.500000   \n",
       "75%           5.198820e+05            3.604062e+05   23818.000000   \n",
       "max           1.000000e+08            6.506797e+06  136679.000000   \n",
       "\n",
       "       Credit Score  Credit Default  \n",
       "count   5943.000000     7500.000000  \n",
       "mean    1151.087498        0.281733  \n",
       "std     1604.451418        0.449874  \n",
       "min      585.000000        0.000000  \n",
       "25%      711.000000        0.000000  \n",
       "50%      731.000000        0.000000  \n",
       "75%      743.000000        1.000000  \n",
       "max     7510.000000        1.000000  "
      ]
     },
     "execution_count": 423,
     "metadata": {},
     "output_type": "execute_result"
    }
   ],
   "source": [
    "df_train.describe()"
   ]
  },
  {
   "cell_type": "markdown",
   "id": "92657d52",
   "metadata": {},
   "source": [
    "**Целевая переменная**"
   ]
  },
  {
   "cell_type": "code",
   "execution_count": 424,
   "id": "fce06743",
   "metadata": {},
   "outputs": [
    {
     "data": {
      "text/plain": [
       "0    5387\n",
       "1    2113\n",
       "Name: Credit Default, dtype: int64"
      ]
     },
     "execution_count": 424,
     "metadata": {},
     "output_type": "execute_result"
    }
   ],
   "source": [
    "df_train['Credit Default'].value_counts()"
   ]
  },
  {
   "cell_type": "code",
   "execution_count": 425,
   "id": "8acf7adb",
   "metadata": {},
   "outputs": [
    {
     "data": {
      "text/html": [
       "<div>\n",
       "<style scoped>\n",
       "    .dataframe tbody tr th:only-of-type {\n",
       "        vertical-align: middle;\n",
       "    }\n",
       "\n",
       "    .dataframe tbody tr th {\n",
       "        vertical-align: top;\n",
       "    }\n",
       "\n",
       "    .dataframe thead th {\n",
       "        text-align: right;\n",
       "    }\n",
       "</style>\n",
       "<table border=\"1\" class=\"dataframe\">\n",
       "  <thead>\n",
       "    <tr style=\"text-align: right;\">\n",
       "      <th></th>\n",
       "      <th>Home Ownership</th>\n",
       "      <th>Annual Income</th>\n",
       "      <th>Years in current job</th>\n",
       "      <th>Tax Liens</th>\n",
       "      <th>Number of Open Accounts</th>\n",
       "      <th>Years of Credit History</th>\n",
       "      <th>Maximum Open Credit</th>\n",
       "      <th>Number of Credit Problems</th>\n",
       "      <th>Months since last delinquent</th>\n",
       "      <th>Bankruptcies</th>\n",
       "      <th>Purpose</th>\n",
       "      <th>Term</th>\n",
       "      <th>Current Loan Amount</th>\n",
       "      <th>Current Credit Balance</th>\n",
       "      <th>Monthly Debt</th>\n",
       "      <th>Credit Score</th>\n",
       "    </tr>\n",
       "  </thead>\n",
       "  <tbody>\n",
       "    <tr>\n",
       "      <th>0</th>\n",
       "      <td>Rent</td>\n",
       "      <td>NaN</td>\n",
       "      <td>4 years</td>\n",
       "      <td>0.0</td>\n",
       "      <td>9.0</td>\n",
       "      <td>12.5</td>\n",
       "      <td>220968.0</td>\n",
       "      <td>0.0</td>\n",
       "      <td>70.0</td>\n",
       "      <td>0.0</td>\n",
       "      <td>debt consolidation</td>\n",
       "      <td>Short Term</td>\n",
       "      <td>162470.0</td>\n",
       "      <td>105906.0</td>\n",
       "      <td>6813.0</td>\n",
       "      <td>NaN</td>\n",
       "    </tr>\n",
       "    <tr>\n",
       "      <th>1</th>\n",
       "      <td>Rent</td>\n",
       "      <td>231838.0</td>\n",
       "      <td>1 year</td>\n",
       "      <td>0.0</td>\n",
       "      <td>6.0</td>\n",
       "      <td>32.7</td>\n",
       "      <td>55946.0</td>\n",
       "      <td>0.0</td>\n",
       "      <td>8.0</td>\n",
       "      <td>0.0</td>\n",
       "      <td>educational expenses</td>\n",
       "      <td>Short Term</td>\n",
       "      <td>78298.0</td>\n",
       "      <td>46037.0</td>\n",
       "      <td>2318.0</td>\n",
       "      <td>699.0</td>\n",
       "    </tr>\n",
       "    <tr>\n",
       "      <th>2</th>\n",
       "      <td>Home Mortgage</td>\n",
       "      <td>1152540.0</td>\n",
       "      <td>3 years</td>\n",
       "      <td>0.0</td>\n",
       "      <td>10.0</td>\n",
       "      <td>13.7</td>\n",
       "      <td>204600.0</td>\n",
       "      <td>0.0</td>\n",
       "      <td>NaN</td>\n",
       "      <td>0.0</td>\n",
       "      <td>debt consolidation</td>\n",
       "      <td>Short Term</td>\n",
       "      <td>200178.0</td>\n",
       "      <td>146490.0</td>\n",
       "      <td>18729.0</td>\n",
       "      <td>7260.0</td>\n",
       "    </tr>\n",
       "    <tr>\n",
       "      <th>3</th>\n",
       "      <td>Home Mortgage</td>\n",
       "      <td>1220313.0</td>\n",
       "      <td>10+ years</td>\n",
       "      <td>0.0</td>\n",
       "      <td>16.0</td>\n",
       "      <td>17.0</td>\n",
       "      <td>456302.0</td>\n",
       "      <td>0.0</td>\n",
       "      <td>70.0</td>\n",
       "      <td>0.0</td>\n",
       "      <td>debt consolidation</td>\n",
       "      <td>Short Term</td>\n",
       "      <td>217382.0</td>\n",
       "      <td>213199.0</td>\n",
       "      <td>27559.0</td>\n",
       "      <td>739.0</td>\n",
       "    </tr>\n",
       "    <tr>\n",
       "      <th>4</th>\n",
       "      <td>Home Mortgage</td>\n",
       "      <td>2340952.0</td>\n",
       "      <td>6 years</td>\n",
       "      <td>0.0</td>\n",
       "      <td>11.0</td>\n",
       "      <td>23.6</td>\n",
       "      <td>1207272.0</td>\n",
       "      <td>0.0</td>\n",
       "      <td>NaN</td>\n",
       "      <td>0.0</td>\n",
       "      <td>debt consolidation</td>\n",
       "      <td>Long Term</td>\n",
       "      <td>777634.0</td>\n",
       "      <td>425391.0</td>\n",
       "      <td>42605.0</td>\n",
       "      <td>706.0</td>\n",
       "    </tr>\n",
       "  </tbody>\n",
       "</table>\n",
       "</div>"
      ],
      "text/plain": [
       "  Home Ownership  Annual Income Years in current job  Tax Liens  \\\n",
       "0           Rent            NaN              4 years        0.0   \n",
       "1           Rent       231838.0               1 year        0.0   \n",
       "2  Home Mortgage      1152540.0              3 years        0.0   \n",
       "3  Home Mortgage      1220313.0            10+ years        0.0   \n",
       "4  Home Mortgage      2340952.0              6 years        0.0   \n",
       "\n",
       "   Number of Open Accounts  Years of Credit History  Maximum Open Credit  \\\n",
       "0                      9.0                     12.5             220968.0   \n",
       "1                      6.0                     32.7              55946.0   \n",
       "2                     10.0                     13.7             204600.0   \n",
       "3                     16.0                     17.0             456302.0   \n",
       "4                     11.0                     23.6            1207272.0   \n",
       "\n",
       "   Number of Credit Problems  Months since last delinquent  Bankruptcies  \\\n",
       "0                        0.0                          70.0           0.0   \n",
       "1                        0.0                           8.0           0.0   \n",
       "2                        0.0                           NaN           0.0   \n",
       "3                        0.0                          70.0           0.0   \n",
       "4                        0.0                           NaN           0.0   \n",
       "\n",
       "                Purpose        Term  Current Loan Amount  \\\n",
       "0    debt consolidation  Short Term             162470.0   \n",
       "1  educational expenses  Short Term              78298.0   \n",
       "2    debt consolidation  Short Term             200178.0   \n",
       "3    debt consolidation  Short Term             217382.0   \n",
       "4    debt consolidation   Long Term             777634.0   \n",
       "\n",
       "   Current Credit Balance  Monthly Debt  Credit Score  \n",
       "0                105906.0        6813.0           NaN  \n",
       "1                 46037.0        2318.0         699.0  \n",
       "2                146490.0       18729.0        7260.0  \n",
       "3                213199.0       27559.0         739.0  \n",
       "4                425391.0       42605.0         706.0  "
      ]
     },
     "execution_count": 425,
     "metadata": {},
     "output_type": "execute_result"
    }
   ],
   "source": [
    "df_test = pd.read_csv(TEST_DATASET_PATH)\n",
    "df_test.head()"
   ]
  },
  {
   "cell_type": "code",
   "execution_count": 426,
   "id": "720385e4",
   "metadata": {},
   "outputs": [
    {
     "data": {
      "text/plain": [
       "(2500, 16)"
      ]
     },
     "execution_count": 426,
     "metadata": {},
     "output_type": "execute_result"
    }
   ],
   "source": [
    "df_test.shape"
   ]
  },
  {
   "cell_type": "markdown",
   "id": "563bfb09",
   "metadata": {},
   "source": [
    "### Обзор количественных переменных"
   ]
  },
  {
   "cell_type": "code",
   "execution_count": 427,
   "id": "cd07503d",
   "metadata": {},
   "outputs": [
    {
     "data": {
      "text/html": [
       "<div>\n",
       "<style scoped>\n",
       "    .dataframe tbody tr th:only-of-type {\n",
       "        vertical-align: middle;\n",
       "    }\n",
       "\n",
       "    .dataframe tbody tr th {\n",
       "        vertical-align: top;\n",
       "    }\n",
       "\n",
       "    .dataframe thead th {\n",
       "        text-align: right;\n",
       "    }\n",
       "</style>\n",
       "<table border=\"1\" class=\"dataframe\">\n",
       "  <thead>\n",
       "    <tr style=\"text-align: right;\">\n",
       "      <th></th>\n",
       "      <th>Annual Income</th>\n",
       "      <th>Tax Liens</th>\n",
       "      <th>Number of Open Accounts</th>\n",
       "      <th>Years of Credit History</th>\n",
       "      <th>Maximum Open Credit</th>\n",
       "      <th>Number of Credit Problems</th>\n",
       "      <th>Months since last delinquent</th>\n",
       "      <th>Bankruptcies</th>\n",
       "      <th>Current Loan Amount</th>\n",
       "      <th>Current Credit Balance</th>\n",
       "      <th>Monthly Debt</th>\n",
       "      <th>Credit Score</th>\n",
       "    </tr>\n",
       "  </thead>\n",
       "  <tbody>\n",
       "    <tr>\n",
       "      <th>0</th>\n",
       "      <td>482087.0</td>\n",
       "      <td>0.0</td>\n",
       "      <td>11.0</td>\n",
       "      <td>26.3</td>\n",
       "      <td>685960.0</td>\n",
       "      <td>1.0</td>\n",
       "      <td>NaN</td>\n",
       "      <td>1.0</td>\n",
       "      <td>99999999.0</td>\n",
       "      <td>47386.0</td>\n",
       "      <td>7914.0</td>\n",
       "      <td>749.0</td>\n",
       "    </tr>\n",
       "    <tr>\n",
       "      <th>1</th>\n",
       "      <td>1025487.0</td>\n",
       "      <td>0.0</td>\n",
       "      <td>15.0</td>\n",
       "      <td>15.3</td>\n",
       "      <td>1181730.0</td>\n",
       "      <td>0.0</td>\n",
       "      <td>NaN</td>\n",
       "      <td>0.0</td>\n",
       "      <td>264968.0</td>\n",
       "      <td>394972.0</td>\n",
       "      <td>18373.0</td>\n",
       "      <td>737.0</td>\n",
       "    </tr>\n",
       "    <tr>\n",
       "      <th>2</th>\n",
       "      <td>751412.0</td>\n",
       "      <td>0.0</td>\n",
       "      <td>11.0</td>\n",
       "      <td>35.0</td>\n",
       "      <td>1182434.0</td>\n",
       "      <td>0.0</td>\n",
       "      <td>NaN</td>\n",
       "      <td>0.0</td>\n",
       "      <td>99999999.0</td>\n",
       "      <td>308389.0</td>\n",
       "      <td>13651.0</td>\n",
       "      <td>742.0</td>\n",
       "    </tr>\n",
       "    <tr>\n",
       "      <th>3</th>\n",
       "      <td>805068.0</td>\n",
       "      <td>0.0</td>\n",
       "      <td>8.0</td>\n",
       "      <td>22.5</td>\n",
       "      <td>147400.0</td>\n",
       "      <td>1.0</td>\n",
       "      <td>NaN</td>\n",
       "      <td>1.0</td>\n",
       "      <td>121396.0</td>\n",
       "      <td>95855.0</td>\n",
       "      <td>11338.0</td>\n",
       "      <td>694.0</td>\n",
       "    </tr>\n",
       "    <tr>\n",
       "      <th>4</th>\n",
       "      <td>776264.0</td>\n",
       "      <td>0.0</td>\n",
       "      <td>13.0</td>\n",
       "      <td>13.6</td>\n",
       "      <td>385836.0</td>\n",
       "      <td>1.0</td>\n",
       "      <td>NaN</td>\n",
       "      <td>0.0</td>\n",
       "      <td>125840.0</td>\n",
       "      <td>93309.0</td>\n",
       "      <td>7180.0</td>\n",
       "      <td>719.0</td>\n",
       "    </tr>\n",
       "  </tbody>\n",
       "</table>\n",
       "</div>"
      ],
      "text/plain": [
       "   Annual Income  Tax Liens  Number of Open Accounts  Years of Credit History  \\\n",
       "0       482087.0        0.0                     11.0                     26.3   \n",
       "1      1025487.0        0.0                     15.0                     15.3   \n",
       "2       751412.0        0.0                     11.0                     35.0   \n",
       "3       805068.0        0.0                      8.0                     22.5   \n",
       "4       776264.0        0.0                     13.0                     13.6   \n",
       "\n",
       "   Maximum Open Credit  Number of Credit Problems  \\\n",
       "0             685960.0                        1.0   \n",
       "1            1181730.0                        0.0   \n",
       "2            1182434.0                        0.0   \n",
       "3             147400.0                        1.0   \n",
       "4             385836.0                        1.0   \n",
       "\n",
       "   Months since last delinquent  Bankruptcies  Current Loan Amount  \\\n",
       "0                           NaN           1.0           99999999.0   \n",
       "1                           NaN           0.0             264968.0   \n",
       "2                           NaN           0.0           99999999.0   \n",
       "3                           NaN           1.0             121396.0   \n",
       "4                           NaN           0.0             125840.0   \n",
       "\n",
       "   Current Credit Balance  Monthly Debt  Credit Score  \n",
       "0                 47386.0        7914.0         749.0  \n",
       "1                394972.0       18373.0         737.0  \n",
       "2                308389.0       13651.0         742.0  \n",
       "3                 95855.0       11338.0         694.0  \n",
       "4                 93309.0        7180.0         719.0  "
      ]
     },
     "execution_count": 427,
     "metadata": {},
     "output_type": "execute_result"
    }
   ],
   "source": [
    "df_num_features = df_train.select_dtypes(include=['float', 'int'])\n",
    "df_num_features.drop('Credit Default', axis=1, inplace=True)\n",
    "df_num_features.head()"
   ]
  },
  {
   "cell_type": "code",
   "execution_count": 428,
   "id": "62db87dc",
   "metadata": {},
   "outputs": [
    {
     "data": {
      "image/png": "[encoded data removed]",
      "text/plain": [
       "<Figure size 1152x1152 with 12 Axes>"
      ]
     },
     "metadata": {
      "needs_background": "light"
     },
     "output_type": "display_data"
    }
   ],
   "source": [
    "df_num_features.hist(figsize=(16, 16), bins=20, grid=False);"
   ]
  },
  {
   "cell_type": "markdown",
   "id": "0e17c072",
   "metadata": {},
   "source": [
    "**'Annual Income'** "
   ]
  },
  {
   "cell_type": "code",
   "execution_count": 429,
   "id": "0a2c1b6e",
   "metadata": {},
   "outputs": [
    {
     "data": {
      "text/plain": [
       "count    5.943000e+03\n",
       "mean     1.366392e+06\n",
       "std      8.453392e+05\n",
       "min      1.645970e+05\n",
       "25%      8.443410e+05\n",
       "50%      1.168386e+06\n",
       "75%      1.640137e+06\n",
       "max      1.014934e+07\n",
       "Name: Annual Income, dtype: float64"
      ]
     },
     "execution_count": 429,
     "metadata": {},
     "output_type": "execute_result"
    }
   ],
   "source": [
    "df_train['Annual Income'].describe()"
   ]
  },
  {
   "cell_type": "markdown",
   "id": "d28eca33",
   "metadata": {},
   "source": [
    "**Tax Liens** "
   ]
  },
  {
   "cell_type": "code",
   "execution_count": 430,
   "id": "1a0b087c",
   "metadata": {},
   "outputs": [
    {
     "data": {
      "text/plain": [
       "0.0    7366\n",
       "1.0      83\n",
       "2.0      30\n",
       "3.0      10\n",
       "4.0       6\n",
       "6.0       2\n",
       "5.0       2\n",
       "7.0       1\n",
       "Name: Tax Liens, dtype: int64"
      ]
     },
     "execution_count": 430,
     "metadata": {},
     "output_type": "execute_result"
    }
   ],
   "source": [
    "df_train['Tax Liens'].value_counts()"
   ]
  },
  {
   "cell_type": "markdown",
   "id": "75793a70",
   "metadata": {},
   "source": [
    "Tax Liens имеет значение 0 для 7366 значений, только 134 значения имеют какие-то значения"
   ]
  },
  {
   "cell_type": "markdown",
   "id": "486d7bc0",
   "metadata": {},
   "source": [
    "**'Maximum Open Credit'**"
   ]
  },
  {
   "cell_type": "markdown",
   "id": "71c01147",
   "metadata": {},
   "source": [
    "**Явно имеютс выбросы, так как есть очень большие значения в соотношении к годовому доходу.**"
   ]
  },
  {
   "cell_type": "code",
   "execution_count": 431,
   "id": "1b73629c",
   "metadata": {},
   "outputs": [
    {
     "data": {
      "text/plain": [
       "count    7.500000e+03\n",
       "mean     9.451537e+05\n",
       "std      1.602622e+07\n",
       "min      0.000000e+00\n",
       "25%      2.792295e+05\n",
       "50%      4.781590e+05\n",
       "75%      7.935015e+05\n",
       "max      1.304726e+09\n",
       "Name: Maximum Open Credit, dtype: float64"
      ]
     },
     "execution_count": 431,
     "metadata": {},
     "output_type": "execute_result"
    }
   ],
   "source": [
    "df_train['Maximum Open Credit'].describe()"
   ]
  },
  {
   "cell_type": "markdown",
   "id": "67dff3e7",
   "metadata": {},
   "source": [
    "**Number of Credit Problems**"
   ]
  },
  {
   "cell_type": "code",
   "execution_count": 432,
   "id": "b4f58341",
   "metadata": {},
   "outputs": [
    {
     "data": {
      "text/plain": [
       "0.0    6469\n",
       "1.0     882\n",
       "2.0      93\n",
       "3.0      35\n",
       "4.0       9\n",
       "5.0       7\n",
       "6.0       4\n",
       "7.0       1\n",
       "Name: Number of Credit Problems, dtype: int64"
      ]
     },
     "execution_count": 432,
     "metadata": {},
     "output_type": "execute_result"
    }
   ],
   "source": [
    "df_train['Number of Credit Problems'].value_counts()"
   ]
  },
  {
   "cell_type": "markdown",
   "id": "0ed7d7c0",
   "metadata": {},
   "source": [
    "**Current Loan Amount** <br>\n",
    "Имеются выбросы 99999999.0 - 870 шт<br>"
   ]
  },
  {
   "cell_type": "code",
   "execution_count": 433,
   "id": "a768df3b",
   "metadata": {},
   "outputs": [
    {
     "data": {
      "text/plain": [
       "99999999.0    870\n",
       "218064.0        6\n",
       "89298.0         6\n",
       "216106.0        5\n",
       "265826.0        5\n",
       "             ... \n",
       "104324.0        1\n",
       "201080.0        1\n",
       "427812.0        1\n",
       "665544.0        1\n",
       "191136.0        1\n",
       "Name: Current Loan Amount, Length: 5386, dtype: int64"
      ]
     },
     "execution_count": 433,
     "metadata": {},
     "output_type": "execute_result"
    }
   ],
   "source": [
    "df_train['Current Loan Amount'].value_counts()"
   ]
  },
  {
   "cell_type": "markdown",
   "id": "d5de8e70",
   "metadata": {},
   "source": [
    "**Monthly Debt**"
   ]
  },
  {
   "cell_type": "markdown",
   "id": "a9c1132c",
   "metadata": {},
   "source": [
    "в датасете есть случаи когда  Monthly Debt больше половины месячного дохода, но их всего 18, ничего не буду с этим делать, возможно это нормально"
   ]
  },
  {
   "cell_type": "markdown",
   "id": "1fe6e715",
   "metadata": {},
   "source": [
    "**Анализ 'Credit Score'**"
   ]
  },
  {
   "cell_type": "markdown",
   "id": "3bdb03bd",
   "metadata": {},
   "source": [
    "*Значения Credit score разделились на 2 группы: 1) - от 600 до 750 2) - от 6100 до 7500, очевидно что во второй группе приписан лишний ноль*"
   ]
  },
  {
   "cell_type": "markdown",
   "id": "8efb31fc",
   "metadata": {},
   "source": [
    "### Дополнительный анализ зависимостей переменных"
   ]
  },
  {
   "cell_type": "markdown",
   "id": "e0cbbf2f",
   "metadata": {},
   "source": [
    "**Новые Фичи**"
   ]
  },
  {
   "cell_type": "code",
   "execution_count": 434,
   "id": "53837a71",
   "metadata": {},
   "outputs": [],
   "source": [
    "df_train['monthly_ratio'] = 0"
   ]
  },
  {
   "cell_type": "code",
   "execution_count": 435,
   "id": "f537950a",
   "metadata": {},
   "outputs": [],
   "source": [
    "df_train.loc[df_train['monthly_ratio'], 'monthly_ratio'] = df_train['Annual Income']/(12 * df_train['Monthly Debt'])"
   ]
  },
  {
   "cell_type": "code",
   "execution_count": 436,
   "id": "a6f26a4a",
   "metadata": {},
   "outputs": [],
   "source": [
    "df_train['current_credit_bal_annual_incom']=0"
   ]
  },
  {
   "cell_type": "code",
   "execution_count": 437,
   "id": "54a0e9ac",
   "metadata": {},
   "outputs": [],
   "source": [
    "df_train.loc[df_train['current_credit_bal_annual_incom'], 'current_credit_bal_annual_incom'] = df_train['Annual Income']* df_train['Current Credit Balance']"
   ]
  },
  {
   "cell_type": "code",
   "execution_count": 438,
   "id": "c187dd56",
   "metadata": {},
   "outputs": [],
   "source": [
    "new_features = ['monthly_ratio', 'current_credit_bal_annual_incom']"
   ]
  },
  {
   "cell_type": "markdown",
   "id": "b4168249",
   "metadata": {},
   "source": [
    "### Обзор номинативных переменных"
   ]
  },
  {
   "cell_type": "code",
   "execution_count": 439,
   "id": "9b19dcf1",
   "metadata": {},
   "outputs": [
    {
     "data": {
      "text/html": [
       "<div>\n",
       "<style scoped>\n",
       "    .dataframe tbody tr th:only-of-type {\n",
       "        vertical-align: middle;\n",
       "    }\n",
       "\n",
       "    .dataframe tbody tr th {\n",
       "        vertical-align: top;\n",
       "    }\n",
       "\n",
       "    .dataframe thead th {\n",
       "        text-align: right;\n",
       "    }\n",
       "</style>\n",
       "<table border=\"1\" class=\"dataframe\">\n",
       "  <thead>\n",
       "    <tr style=\"text-align: right;\">\n",
       "      <th></th>\n",
       "      <th>Home Ownership</th>\n",
       "      <th>Years in current job</th>\n",
       "      <th>Purpose</th>\n",
       "      <th>Term</th>\n",
       "    </tr>\n",
       "  </thead>\n",
       "  <tbody>\n",
       "    <tr>\n",
       "      <th>0</th>\n",
       "      <td>Own Home</td>\n",
       "      <td>NaN</td>\n",
       "      <td>debt consolidation</td>\n",
       "      <td>Short Term</td>\n",
       "    </tr>\n",
       "    <tr>\n",
       "      <th>1</th>\n",
       "      <td>Own Home</td>\n",
       "      <td>10+ years</td>\n",
       "      <td>debt consolidation</td>\n",
       "      <td>Long Term</td>\n",
       "    </tr>\n",
       "    <tr>\n",
       "      <th>2</th>\n",
       "      <td>Home Mortgage</td>\n",
       "      <td>8 years</td>\n",
       "      <td>debt consolidation</td>\n",
       "      <td>Short Term</td>\n",
       "    </tr>\n",
       "    <tr>\n",
       "      <th>3</th>\n",
       "      <td>Own Home</td>\n",
       "      <td>6 years</td>\n",
       "      <td>debt consolidation</td>\n",
       "      <td>Short Term</td>\n",
       "    </tr>\n",
       "    <tr>\n",
       "      <th>4</th>\n",
       "      <td>Rent</td>\n",
       "      <td>8 years</td>\n",
       "      <td>debt consolidation</td>\n",
       "      <td>Short Term</td>\n",
       "    </tr>\n",
       "  </tbody>\n",
       "</table>\n",
       "</div>"
      ],
      "text/plain": [
       "  Home Ownership Years in current job             Purpose        Term\n",
       "0       Own Home                  NaN  debt consolidation  Short Term\n",
       "1       Own Home            10+ years  debt consolidation   Long Term\n",
       "2  Home Mortgage              8 years  debt consolidation  Short Term\n",
       "3       Own Home              6 years  debt consolidation  Short Term\n",
       "4           Rent              8 years  debt consolidation  Short Term"
      ]
     },
     "execution_count": 439,
     "metadata": {},
     "output_type": "execute_result"
    }
   ],
   "source": [
    "df_obj_features = df_train.select_dtypes(include='object')\n",
    "df_obj_features.head()"
   ]
  },
  {
   "cell_type": "code",
   "execution_count": 440,
   "id": "d32de8b5",
   "metadata": {},
   "outputs": [
    {
     "data": {
      "text/plain": [
       "['Home Ownership', 'Years in current job', 'Purpose', 'Term']"
      ]
     },
     "execution_count": 440,
     "metadata": {},
     "output_type": "execute_result"
    }
   ],
   "source": [
    "cat_colnames = df_obj_features.columns.tolist()\n",
    "cat_colnames"
   ]
  },
  {
   "cell_type": "code",
   "execution_count": 441,
   "id": "c4f23f7e",
   "metadata": {},
   "outputs": [
    {
     "name": "stdout",
     "output_type": "stream",
     "text": [
      "Home Ownership\n",
      "\n",
      "Home Mortgage    3637\n",
      "Rent             3204\n",
      "Own Home          647\n",
      "Have Mortgage      12\n",
      "Name: Home Ownership, dtype: int64\n",
      "****************************************************************************************************\n",
      "\n",
      "Years in current job\n",
      "\n",
      "10+ years    2332\n",
      "2 years       705\n",
      "3 years       620\n",
      "< 1 year      563\n",
      "5 years       516\n",
      "1 year        504\n",
      "4 years       469\n",
      "6 years       426\n",
      "7 years       396\n",
      "8 years       339\n",
      "9 years       259\n",
      "Name: Years in current job, dtype: int64\n",
      "****************************************************************************************************\n",
      "\n",
      "Purpose\n",
      "\n",
      "debt consolidation      5944\n",
      "other                    665\n",
      "home improvements        412\n",
      "business loan            129\n",
      "buy a car                 96\n",
      "medical bills             71\n",
      "major purchase            40\n",
      "take a trip               37\n",
      "buy house                 34\n",
      "small business            26\n",
      "wedding                   15\n",
      "moving                    11\n",
      "educational expenses      10\n",
      "vacation                   8\n",
      "renewable energy           2\n",
      "Name: Purpose, dtype: int64\n",
      "****************************************************************************************************\n",
      "\n",
      "Term\n",
      "\n",
      "Short Term    5556\n",
      "Long Term     1944\n",
      "Name: Term, dtype: int64\n",
      "****************************************************************************************************\n",
      "\n"
     ]
    }
   ],
   "source": [
    "for cat_colname in cat_colnames[:]:\n",
    "    print(str(cat_colname) + '\\n\\n' + str(df_train[cat_colname].value_counts()) + '\\n' + '*' * 100 + '\\n')"
   ]
  },
  {
   "cell_type": "markdown",
   "id": "d9f51d1c",
   "metadata": {},
   "source": [
    "**Home Ownership**"
   ]
  },
  {
   "cell_type": "markdown",
   "id": "9af27fd6",
   "metadata": {},
   "source": [
    "в переменной Home Ownership, есть 2 значения Home Mortgage (3637) и Have Mortgage (12), на мой взгляд это одно и тоже"
   ]
  },
  {
   "cell_type": "markdown",
   "id": "af0e51c2",
   "metadata": {},
   "source": [
    "### Заполнение пропусков"
   ]
  },
  {
   "cell_type": "markdown",
   "id": "39724778",
   "metadata": {},
   "source": [
    "**Пропуски данных в переменных:**\n",
    "1) Annual Income,<br>\n",
    "2) Years in current job,<br>\n",
    "3) Months since last delinquent,<br>\n",
    "4) Bankruptcies,<br>\n",
    "5) Credit Score"
   ]
  },
  {
   "cell_type": "markdown",
   "id": "11784088",
   "metadata": {},
   "source": [
    "**Annual Income**<br>\n",
    "Заполняю пропуски медианой #средним значением"
   ]
  },
  {
   "cell_type": "code",
   "execution_count": 442,
   "id": "11989a74",
   "metadata": {},
   "outputs": [
    {
     "data": {
      "text/plain": [
       "1557"
      ]
     },
     "execution_count": 442,
     "metadata": {},
     "output_type": "execute_result"
    }
   ],
   "source": [
    "df_train['Annual Income'].isna().sum()"
   ]
  },
  {
   "cell_type": "code",
   "execution_count": 443,
   "id": "8c9d1ba3",
   "metadata": {},
   "outputs": [],
   "source": [
    "median_ai = df_train['Annual Income'].median()"
   ]
  },
  {
   "cell_type": "code",
   "execution_count": 444,
   "id": "59e80530",
   "metadata": {},
   "outputs": [],
   "source": [
    "df_train['Annual Income'] = df_train['Annual Income'].fillna(median_ai)"
   ]
  },
  {
   "cell_type": "markdown",
   "id": "d6f9c9e9",
   "metadata": {},
   "source": [
    "**Years in current job**"
   ]
  },
  {
   "cell_type": "markdown",
   "id": "b6f3090f",
   "metadata": {},
   "source": [
    "Создаем дополнительную переменную указывающую на то что был заполнен пропуск в этой линии"
   ]
  },
  {
   "cell_type": "code",
   "execution_count": 445,
   "id": "45babbfe",
   "metadata": {},
   "outputs": [],
   "source": [
    "df_train['Years in current job nan'] = 0 "
   ]
  },
  {
   "cell_type": "code",
   "execution_count": 446,
   "id": "f58d59db",
   "metadata": {},
   "outputs": [],
   "source": [
    "df_train.loc[df_train['Years in current job'].isna(), 'Years in current job nan'] = 1"
   ]
  },
  {
   "cell_type": "code",
   "execution_count": 447,
   "id": "44def22b",
   "metadata": {},
   "outputs": [
    {
     "data": {
      "text/plain": [
       "371"
      ]
     },
     "execution_count": 447,
     "metadata": {},
     "output_type": "execute_result"
    }
   ],
   "source": [
    "df_train['Years in current job'].isna().sum()"
   ]
  },
  {
   "cell_type": "markdown",
   "id": "6d2090a5",
   "metadata": {},
   "source": [
    "Находим моду и заполняем ею пропуски"
   ]
  },
  {
   "cell_type": "code",
   "execution_count": 448,
   "id": "5228c4f7",
   "metadata": {},
   "outputs": [
    {
     "data": {
      "text/plain": [
       "'10+ years'"
      ]
     },
     "execution_count": 448,
     "metadata": {},
     "output_type": "execute_result"
    }
   ],
   "source": [
    "mode_yicj = df_train['Years in current job'].mode()[0]\n",
    "mode_yicj"
   ]
  },
  {
   "cell_type": "code",
   "execution_count": 449,
   "id": "944e51c1",
   "metadata": {},
   "outputs": [],
   "source": [
    "df_train['Years in current job'] = df_train['Years in current job'].fillna(mode_yicj)"
   ]
  },
  {
   "cell_type": "markdown",
   "id": "de89efbf",
   "metadata": {},
   "source": [
    "Аналогично для 'Bankruptcies', 'Months since last delinquent', 'Credit Score', только заполняем медианой"
   ]
  },
  {
   "cell_type": "code",
   "execution_count": 450,
   "id": "a5b81b2e",
   "metadata": {},
   "outputs": [],
   "source": [
    "df_train['Bankruptcies_nan'] = 0"
   ]
  },
  {
   "cell_type": "code",
   "execution_count": 451,
   "id": "52f02d73",
   "metadata": {},
   "outputs": [],
   "source": [
    "df_train.loc[df_train['Bankruptcies'].isna(), 'Bankruptcies_nan'] = 1"
   ]
  },
  {
   "cell_type": "code",
   "execution_count": 452,
   "id": "f78f6246",
   "metadata": {},
   "outputs": [
    {
     "data": {
      "text/plain": [
       "14"
      ]
     },
     "execution_count": 452,
     "metadata": {},
     "output_type": "execute_result"
    }
   ],
   "source": [
    "df_train['Bankruptcies'].isna().sum()  "
   ]
  },
  {
   "cell_type": "code",
   "execution_count": 453,
   "id": "3d74fcd6",
   "metadata": {},
   "outputs": [
    {
     "data": {
      "text/plain": [
       "0.0"
      ]
     },
     "execution_count": 453,
     "metadata": {},
     "output_type": "execute_result"
    }
   ],
   "source": [
    "median_b = df_train['Bankruptcies'].median()\n",
    "median_b"
   ]
  },
  {
   "cell_type": "code",
   "execution_count": 454,
   "id": "7865d9bf",
   "metadata": {},
   "outputs": [],
   "source": [
    "df_train['Bankruptcies'] = df_train['Bankruptcies'].fillna(median_b)"
   ]
  },
  {
   "cell_type": "code",
   "execution_count": 455,
   "id": "971a7386",
   "metadata": {},
   "outputs": [
    {
     "data": {
      "text/plain": [
       "0.0    6674\n",
       "1.0     786\n",
       "2.0      31\n",
       "3.0       7\n",
       "4.0       2\n",
       "Name: Bankruptcies, dtype: int64"
      ]
     },
     "execution_count": 455,
     "metadata": {},
     "output_type": "execute_result"
    }
   ],
   "source": [
    "df_train['Bankruptcies'].value_counts()"
   ]
  },
  {
   "cell_type": "code",
   "execution_count": 456,
   "id": "ebaffa5d",
   "metadata": {},
   "outputs": [],
   "source": [
    "df_train['Months since last delinquent nan'] = 0"
   ]
  },
  {
   "cell_type": "code",
   "execution_count": 457,
   "id": "6852b95d",
   "metadata": {},
   "outputs": [],
   "source": [
    "df_train.loc[df_train['Months since last delinquent'].isna(), 'Months since last delinquent nan'] = 1"
   ]
  },
  {
   "cell_type": "code",
   "execution_count": 458,
   "id": "19ed1a5f",
   "metadata": {},
   "outputs": [
    {
     "data": {
      "text/plain": [
       "32.0"
      ]
     },
     "execution_count": 458,
     "metadata": {},
     "output_type": "execute_result"
    }
   ],
   "source": [
    "median_msld = df_train['Months since last delinquent'].median()\n",
    "median_msld"
   ]
  },
  {
   "cell_type": "code",
   "execution_count": 459,
   "id": "86b51160",
   "metadata": {},
   "outputs": [],
   "source": [
    "df_train['Months since last delinquent'] = df_train['Months since last delinquent'].fillna(median_msld)"
   ]
  },
  {
   "cell_type": "code",
   "execution_count": 460,
   "id": "d8e89738",
   "metadata": {},
   "outputs": [
    {
     "data": {
      "text/plain": [
       "0"
      ]
     },
     "execution_count": 460,
     "metadata": {},
     "output_type": "execute_result"
    }
   ],
   "source": [
    "df_train['Months since last delinquent'].isna().sum()"
   ]
  },
  {
   "cell_type": "code",
   "execution_count": 461,
   "id": "4e96daf5",
   "metadata": {},
   "outputs": [],
   "source": [
    "df_train['Credit Score nan'] = 0"
   ]
  },
  {
   "cell_type": "code",
   "execution_count": 462,
   "id": "b34a3b15",
   "metadata": {},
   "outputs": [],
   "source": [
    "df_train.loc[df_train['Credit Score'].isna(), 'Credit Score nan'] = 1"
   ]
  },
  {
   "cell_type": "code",
   "execution_count": 463,
   "id": "54499221",
   "metadata": {},
   "outputs": [
    {
     "data": {
      "text/plain": [
       "731.0"
      ]
     },
     "execution_count": 463,
     "metadata": {},
     "output_type": "execute_result"
    }
   ],
   "source": [
    "median_cs = df_train['Credit Score'].median()\n",
    "median_cs"
   ]
  },
  {
   "cell_type": "code",
   "execution_count": 464,
   "id": "f3f3270f",
   "metadata": {},
   "outputs": [],
   "source": [
    "df_train['Credit Score'] = df_train['Credit Score'].fillna(median_cs)"
   ]
  },
  {
   "cell_type": "code",
   "execution_count": 465,
   "id": "0d409002",
   "metadata": {},
   "outputs": [
    {
     "data": {
      "text/plain": [
       "0"
      ]
     },
     "execution_count": 465,
     "metadata": {},
     "output_type": "execute_result"
    }
   ],
   "source": [
    "df_train['Credit Score'].isna().sum()"
   ]
  },
  {
   "cell_type": "markdown",
   "id": "c0f56a9a",
   "metadata": {},
   "source": [
    "## Обработка датасетов"
   ]
  },
  {
   "cell_type": "markdown",
   "id": "b5896445",
   "metadata": {},
   "source": [
    "### Обработка номинативных переменных"
   ]
  },
  {
   "cell_type": "markdown",
   "id": "52633150",
   "metadata": {},
   "source": [
    "Преобразования Purpose<br> \n",
    "редкие признаки уберем в other и переименуем other в other_purpose"
   ]
  },
  {
   "cell_type": "code",
   "execution_count": 466,
   "id": "5304a660",
   "metadata": {},
   "outputs": [
    {
     "data": {
      "text/plain": [
       "debt consolidation      5944\n",
       "other                    665\n",
       "home improvements        412\n",
       "business loan            129\n",
       "buy a car                 96\n",
       "medical bills             71\n",
       "major purchase            40\n",
       "take a trip               37\n",
       "buy house                 34\n",
       "small business            26\n",
       "wedding                   15\n",
       "moving                    11\n",
       "educational expenses      10\n",
       "vacation                   8\n",
       "renewable energy           2\n",
       "Name: Purpose, dtype: int64"
      ]
     },
     "execution_count": 466,
     "metadata": {},
     "output_type": "execute_result"
    }
   ],
   "source": [
    "df_train['Purpose'].value_counts()"
   ]
  },
  {
   "cell_type": "code",
   "execution_count": 467,
   "id": "3e931029",
   "metadata": {},
   "outputs": [],
   "source": [
    "df_train.replace(\n",
    "    {'Purpose':\n",
    "        {'other': 'other_purpose',\n",
    "        'renewable energy' :'other_purpose',\n",
    "        'vacation': 'other_purpose'\n",
    "        }\n",
    "    },\n",
    "    inplace=True)"
   ]
  },
  {
   "cell_type": "markdown",
   "id": "7b8e5702",
   "metadata": {},
   "source": [
    "Уберу знак < чтобы не было ошибки"
   ]
  },
  {
   "cell_type": "code",
   "execution_count": 468,
   "id": "b4034e34",
   "metadata": {},
   "outputs": [],
   "source": [
    "df_train.replace(\n",
    "    {'Years in current job':\n",
    "     {'< 1 year': 'less_than_1_year'}\n",
    "     }, \n",
    "     inplace=True)"
   ]
  },
  {
   "cell_type": "markdown",
   "id": "9c43c5ca",
   "metadata": {},
   "source": [
    "в переменной Home Ownership, есть 2 значения Home Mortgage (3637) и Have Mortgage (12), на мой взгляд это одно и тоже"
   ]
  },
  {
   "cell_type": "code",
   "execution_count": 469,
   "id": "9b55a233",
   "metadata": {},
   "outputs": [],
   "source": [
    "df_train.replace(\n",
    "    {'Home Ownership':\n",
    "        {'Have Mortgage': 'Home Mortgage'}\n",
    "    },\n",
    "    inplace=True)"
   ]
  },
  {
   "cell_type": "code",
   "execution_count": 470,
   "id": "ffd772c2",
   "metadata": {},
   "outputs": [],
   "source": [
    "df_bin_features_Home_Ownership = pd.get_dummies(df_train['Home Ownership'])"
   ]
  },
  {
   "cell_type": "code",
   "execution_count": 471,
   "id": "1847690b",
   "metadata": {},
   "outputs": [],
   "source": [
    "df_bin_features_Years_in_current_job = pd.get_dummies(df_train['Years in current job'])"
   ]
  },
  {
   "cell_type": "code",
   "execution_count": 472,
   "id": "41314a38",
   "metadata": {},
   "outputs": [],
   "source": [
    "df_bin_features_Purpose = pd.get_dummies(df_train['Purpose'])"
   ]
  },
  {
   "cell_type": "code",
   "execution_count": 473,
   "id": "dad23eb7",
   "metadata": {},
   "outputs": [],
   "source": [
    "df_train = pd.concat([df_train, df_bin_features_Purpose, df_bin_features_Years_in_current_job, df_bin_features_Home_Ownership], axis=1)"
   ]
  },
  {
   "cell_type": "code",
   "execution_count": 474,
   "id": "e9cfe3db",
   "metadata": {},
   "outputs": [],
   "source": [
    "df_train['Term_bin'] = dummies_short_long(df_train, 'Term', 'Term_bin')"
   ]
  },
  {
   "cell_type": "code",
   "execution_count": 475,
   "id": "838dbe4b",
   "metadata": {},
   "outputs": [
    {
     "data": {
      "text/html": [
       "<div>\n",
       "<style scoped>\n",
       "    .dataframe tbody tr th:only-of-type {\n",
       "        vertical-align: middle;\n",
       "    }\n",
       "\n",
       "    .dataframe tbody tr th {\n",
       "        vertical-align: top;\n",
       "    }\n",
       "\n",
       "    .dataframe thead th {\n",
       "        text-align: right;\n",
       "    }\n",
       "</style>\n",
       "<table border=\"1\" class=\"dataframe\">\n",
       "  <thead>\n",
       "    <tr style=\"text-align: right;\">\n",
       "      <th></th>\n",
       "      <th>Home Ownership</th>\n",
       "      <th>Annual Income</th>\n",
       "      <th>Years in current job</th>\n",
       "      <th>Tax Liens</th>\n",
       "      <th>Number of Open Accounts</th>\n",
       "      <th>Years of Credit History</th>\n",
       "      <th>Maximum Open Credit</th>\n",
       "      <th>Number of Credit Problems</th>\n",
       "      <th>Months since last delinquent</th>\n",
       "      <th>Bankruptcies</th>\n",
       "      <th>...</th>\n",
       "      <th>5 years</th>\n",
       "      <th>6 years</th>\n",
       "      <th>7 years</th>\n",
       "      <th>8 years</th>\n",
       "      <th>9 years</th>\n",
       "      <th>less_than_1_year</th>\n",
       "      <th>Home Mortgage</th>\n",
       "      <th>Own Home</th>\n",
       "      <th>Rent</th>\n",
       "      <th>Term_bin</th>\n",
       "    </tr>\n",
       "  </thead>\n",
       "  <tbody>\n",
       "    <tr>\n",
       "      <th>0</th>\n",
       "      <td>Own Home</td>\n",
       "      <td>482087.0</td>\n",
       "      <td>10+ years</td>\n",
       "      <td>0.0</td>\n",
       "      <td>11.0</td>\n",
       "      <td>26.3</td>\n",
       "      <td>685960.0</td>\n",
       "      <td>1.0</td>\n",
       "      <td>32.0</td>\n",
       "      <td>1.0</td>\n",
       "      <td>...</td>\n",
       "      <td>0</td>\n",
       "      <td>0</td>\n",
       "      <td>0</td>\n",
       "      <td>0</td>\n",
       "      <td>0</td>\n",
       "      <td>0</td>\n",
       "      <td>0</td>\n",
       "      <td>1</td>\n",
       "      <td>0</td>\n",
       "      <td>0</td>\n",
       "    </tr>\n",
       "    <tr>\n",
       "      <th>1</th>\n",
       "      <td>Own Home</td>\n",
       "      <td>1025487.0</td>\n",
       "      <td>10+ years</td>\n",
       "      <td>0.0</td>\n",
       "      <td>15.0</td>\n",
       "      <td>15.3</td>\n",
       "      <td>1181730.0</td>\n",
       "      <td>0.0</td>\n",
       "      <td>32.0</td>\n",
       "      <td>0.0</td>\n",
       "      <td>...</td>\n",
       "      <td>0</td>\n",
       "      <td>0</td>\n",
       "      <td>0</td>\n",
       "      <td>0</td>\n",
       "      <td>0</td>\n",
       "      <td>0</td>\n",
       "      <td>0</td>\n",
       "      <td>1</td>\n",
       "      <td>0</td>\n",
       "      <td>1</td>\n",
       "    </tr>\n",
       "    <tr>\n",
       "      <th>2</th>\n",
       "      <td>Home Mortgage</td>\n",
       "      <td>751412.0</td>\n",
       "      <td>8 years</td>\n",
       "      <td>0.0</td>\n",
       "      <td>11.0</td>\n",
       "      <td>35.0</td>\n",
       "      <td>1182434.0</td>\n",
       "      <td>0.0</td>\n",
       "      <td>32.0</td>\n",
       "      <td>0.0</td>\n",
       "      <td>...</td>\n",
       "      <td>0</td>\n",
       "      <td>0</td>\n",
       "      <td>0</td>\n",
       "      <td>1</td>\n",
       "      <td>0</td>\n",
       "      <td>0</td>\n",
       "      <td>1</td>\n",
       "      <td>0</td>\n",
       "      <td>0</td>\n",
       "      <td>0</td>\n",
       "    </tr>\n",
       "    <tr>\n",
       "      <th>3</th>\n",
       "      <td>Own Home</td>\n",
       "      <td>805068.0</td>\n",
       "      <td>6 years</td>\n",
       "      <td>0.0</td>\n",
       "      <td>8.0</td>\n",
       "      <td>22.5</td>\n",
       "      <td>147400.0</td>\n",
       "      <td>1.0</td>\n",
       "      <td>32.0</td>\n",
       "      <td>1.0</td>\n",
       "      <td>...</td>\n",
       "      <td>0</td>\n",
       "      <td>1</td>\n",
       "      <td>0</td>\n",
       "      <td>0</td>\n",
       "      <td>0</td>\n",
       "      <td>0</td>\n",
       "      <td>0</td>\n",
       "      <td>1</td>\n",
       "      <td>0</td>\n",
       "      <td>0</td>\n",
       "    </tr>\n",
       "    <tr>\n",
       "      <th>4</th>\n",
       "      <td>Rent</td>\n",
       "      <td>776264.0</td>\n",
       "      <td>8 years</td>\n",
       "      <td>0.0</td>\n",
       "      <td>13.0</td>\n",
       "      <td>13.6</td>\n",
       "      <td>385836.0</td>\n",
       "      <td>1.0</td>\n",
       "      <td>32.0</td>\n",
       "      <td>0.0</td>\n",
       "      <td>...</td>\n",
       "      <td>0</td>\n",
       "      <td>0</td>\n",
       "      <td>0</td>\n",
       "      <td>1</td>\n",
       "      <td>0</td>\n",
       "      <td>0</td>\n",
       "      <td>0</td>\n",
       "      <td>0</td>\n",
       "      <td>1</td>\n",
       "      <td>0</td>\n",
       "    </tr>\n",
       "    <tr>\n",
       "      <th>...</th>\n",
       "      <td>...</td>\n",
       "      <td>...</td>\n",
       "      <td>...</td>\n",
       "      <td>...</td>\n",
       "      <td>...</td>\n",
       "      <td>...</td>\n",
       "      <td>...</td>\n",
       "      <td>...</td>\n",
       "      <td>...</td>\n",
       "      <td>...</td>\n",
       "      <td>...</td>\n",
       "      <td>...</td>\n",
       "      <td>...</td>\n",
       "      <td>...</td>\n",
       "      <td>...</td>\n",
       "      <td>...</td>\n",
       "      <td>...</td>\n",
       "      <td>...</td>\n",
       "      <td>...</td>\n",
       "      <td>...</td>\n",
       "      <td>...</td>\n",
       "    </tr>\n",
       "    <tr>\n",
       "      <th>7495</th>\n",
       "      <td>Rent</td>\n",
       "      <td>402192.0</td>\n",
       "      <td>less_than_1_year</td>\n",
       "      <td>0.0</td>\n",
       "      <td>3.0</td>\n",
       "      <td>8.5</td>\n",
       "      <td>107866.0</td>\n",
       "      <td>0.0</td>\n",
       "      <td>32.0</td>\n",
       "      <td>0.0</td>\n",
       "      <td>...</td>\n",
       "      <td>0</td>\n",
       "      <td>0</td>\n",
       "      <td>0</td>\n",
       "      <td>0</td>\n",
       "      <td>0</td>\n",
       "      <td>1</td>\n",
       "      <td>0</td>\n",
       "      <td>0</td>\n",
       "      <td>1</td>\n",
       "      <td>0</td>\n",
       "    </tr>\n",
       "    <tr>\n",
       "      <th>7496</th>\n",
       "      <td>Home Mortgage</td>\n",
       "      <td>1533984.0</td>\n",
       "      <td>1 year</td>\n",
       "      <td>0.0</td>\n",
       "      <td>10.0</td>\n",
       "      <td>26.5</td>\n",
       "      <td>686312.0</td>\n",
       "      <td>0.0</td>\n",
       "      <td>43.0</td>\n",
       "      <td>0.0</td>\n",
       "      <td>...</td>\n",
       "      <td>0</td>\n",
       "      <td>0</td>\n",
       "      <td>0</td>\n",
       "      <td>0</td>\n",
       "      <td>0</td>\n",
       "      <td>0</td>\n",
       "      <td>1</td>\n",
       "      <td>0</td>\n",
       "      <td>0</td>\n",
       "      <td>1</td>\n",
       "    </tr>\n",
       "    <tr>\n",
       "      <th>7497</th>\n",
       "      <td>Rent</td>\n",
       "      <td>1878910.0</td>\n",
       "      <td>6 years</td>\n",
       "      <td>0.0</td>\n",
       "      <td>12.0</td>\n",
       "      <td>32.1</td>\n",
       "      <td>1778920.0</td>\n",
       "      <td>0.0</td>\n",
       "      <td>32.0</td>\n",
       "      <td>0.0</td>\n",
       "      <td>...</td>\n",
       "      <td>0</td>\n",
       "      <td>1</td>\n",
       "      <td>0</td>\n",
       "      <td>0</td>\n",
       "      <td>0</td>\n",
       "      <td>0</td>\n",
       "      <td>0</td>\n",
       "      <td>0</td>\n",
       "      <td>1</td>\n",
       "      <td>0</td>\n",
       "    </tr>\n",
       "    <tr>\n",
       "      <th>7498</th>\n",
       "      <td>Home Mortgage</td>\n",
       "      <td>1168386.0</td>\n",
       "      <td>10+ years</td>\n",
       "      <td>0.0</td>\n",
       "      <td>21.0</td>\n",
       "      <td>26.5</td>\n",
       "      <td>1141250.0</td>\n",
       "      <td>0.0</td>\n",
       "      <td>32.0</td>\n",
       "      <td>0.0</td>\n",
       "      <td>...</td>\n",
       "      <td>0</td>\n",
       "      <td>0</td>\n",
       "      <td>0</td>\n",
       "      <td>0</td>\n",
       "      <td>0</td>\n",
       "      <td>0</td>\n",
       "      <td>1</td>\n",
       "      <td>0</td>\n",
       "      <td>0</td>\n",
       "      <td>0</td>\n",
       "    </tr>\n",
       "    <tr>\n",
       "      <th>7499</th>\n",
       "      <td>Rent</td>\n",
       "      <td>1168386.0</td>\n",
       "      <td>4 years</td>\n",
       "      <td>0.0</td>\n",
       "      <td>8.0</td>\n",
       "      <td>9.4</td>\n",
       "      <td>480832.0</td>\n",
       "      <td>0.0</td>\n",
       "      <td>32.0</td>\n",
       "      <td>0.0</td>\n",
       "      <td>...</td>\n",
       "      <td>0</td>\n",
       "      <td>0</td>\n",
       "      <td>0</td>\n",
       "      <td>0</td>\n",
       "      <td>0</td>\n",
       "      <td>0</td>\n",
       "      <td>0</td>\n",
       "      <td>0</td>\n",
       "      <td>1</td>\n",
       "      <td>0</td>\n",
       "    </tr>\n",
       "  </tbody>\n",
       "</table>\n",
       "<p>7500 rows × 51 columns</p>\n",
       "</div>"
      ],
      "text/plain": [
       "     Home Ownership  Annual Income Years in current job  Tax Liens  \\\n",
       "0          Own Home       482087.0            10+ years        0.0   \n",
       "1          Own Home      1025487.0            10+ years        0.0   \n",
       "2     Home Mortgage       751412.0              8 years        0.0   \n",
       "3          Own Home       805068.0              6 years        0.0   \n",
       "4              Rent       776264.0              8 years        0.0   \n",
       "...             ...            ...                  ...        ...   \n",
       "7495           Rent       402192.0     less_than_1_year        0.0   \n",
       "7496  Home Mortgage      1533984.0               1 year        0.0   \n",
       "7497           Rent      1878910.0              6 years        0.0   \n",
       "7498  Home Mortgage      1168386.0            10+ years        0.0   \n",
       "7499           Rent      1168386.0              4 years        0.0   \n",
       "\n",
       "      Number of Open Accounts  Years of Credit History  Maximum Open Credit  \\\n",
       "0                        11.0                     26.3             685960.0   \n",
       "1                        15.0                     15.3            1181730.0   \n",
       "2                        11.0                     35.0            1182434.0   \n",
       "3                         8.0                     22.5             147400.0   \n",
       "4                        13.0                     13.6             385836.0   \n",
       "...                       ...                      ...                  ...   \n",
       "7495                      3.0                      8.5             107866.0   \n",
       "7496                     10.0                     26.5             686312.0   \n",
       "7497                     12.0                     32.1            1778920.0   \n",
       "7498                     21.0                     26.5            1141250.0   \n",
       "7499                      8.0                      9.4             480832.0   \n",
       "\n",
       "      Number of Credit Problems  Months since last delinquent  Bankruptcies  \\\n",
       "0                           1.0                          32.0           1.0   \n",
       "1                           0.0                          32.0           0.0   \n",
       "2                           0.0                          32.0           0.0   \n",
       "3                           1.0                          32.0           1.0   \n",
       "4                           1.0                          32.0           0.0   \n",
       "...                         ...                           ...           ...   \n",
       "7495                        0.0                          32.0           0.0   \n",
       "7496                        0.0                          43.0           0.0   \n",
       "7497                        0.0                          32.0           0.0   \n",
       "7498                        0.0                          32.0           0.0   \n",
       "7499                        0.0                          32.0           0.0   \n",
       "\n",
       "      ... 5 years 6 years  7 years  8 years  9 years  less_than_1_year  \\\n",
       "0     ...       0       0        0        0        0                 0   \n",
       "1     ...       0       0        0        0        0                 0   \n",
       "2     ...       0       0        0        1        0                 0   \n",
       "3     ...       0       1        0        0        0                 0   \n",
       "4     ...       0       0        0        1        0                 0   \n",
       "...   ...     ...     ...      ...      ...      ...               ...   \n",
       "7495  ...       0       0        0        0        0                 1   \n",
       "7496  ...       0       0        0        0        0                 0   \n",
       "7497  ...       0       1        0        0        0                 0   \n",
       "7498  ...       0       0        0        0        0                 0   \n",
       "7499  ...       0       0        0        0        0                 0   \n",
       "\n",
       "      Home Mortgage  Own Home  Rent  Term_bin  \n",
       "0                 0         1     0         0  \n",
       "1                 0         1     0         1  \n",
       "2                 1         0     0         0  \n",
       "3                 0         1     0         0  \n",
       "4                 0         0     1         0  \n",
       "...             ...       ...   ...       ...  \n",
       "7495              0         0     1         0  \n",
       "7496              1         0     0         1  \n",
       "7497              0         0     1         0  \n",
       "7498              1         0     0         0  \n",
       "7499              0         0     1         0  \n",
       "\n",
       "[7500 rows x 51 columns]"
      ]
     },
     "execution_count": 475,
     "metadata": {},
     "output_type": "execute_result"
    }
   ],
   "source": [
    "df_train"
   ]
  },
  {
   "cell_type": "code",
   "execution_count": 476,
   "id": "bd74d4a0",
   "metadata": {},
   "outputs": [
    {
     "name": "stdout",
     "output_type": "stream",
     "text": [
      "<class 'pandas.core.frame.DataFrame'>\n",
      "RangeIndex: 7500 entries, 0 to 7499\n",
      "Data columns (total 51 columns):\n",
      " #   Column                            Non-Null Count  Dtype  \n",
      "---  ------                            --------------  -----  \n",
      " 0   Home Ownership                    7500 non-null   object \n",
      " 1   Annual Income                     7500 non-null   float64\n",
      " 2   Years in current job              7500 non-null   object \n",
      " 3   Tax Liens                         7500 non-null   float64\n",
      " 4   Number of Open Accounts           7500 non-null   float64\n",
      " 5   Years of Credit History           7500 non-null   float64\n",
      " 6   Maximum Open Credit               7500 non-null   float64\n",
      " 7   Number of Credit Problems         7500 non-null   float64\n",
      " 8   Months since last delinquent      7500 non-null   float64\n",
      " 9   Bankruptcies                      7500 non-null   float64\n",
      " 10  Purpose                           7500 non-null   object \n",
      " 11  Term                              7500 non-null   object \n",
      " 12  Current Loan Amount               7500 non-null   float64\n",
      " 13  Current Credit Balance            7500 non-null   float64\n",
      " 14  Monthly Debt                      7500 non-null   float64\n",
      " 15  Credit Score                      7500 non-null   float64\n",
      " 16  Credit Default                    7500 non-null   int64  \n",
      " 17  monthly_ratio                     7500 non-null   float64\n",
      " 18  current_credit_bal_annual_incom   7500 non-null   float64\n",
      " 19  Years in current job nan          7500 non-null   int64  \n",
      " 20  Bankruptcies_nan                  7500 non-null   int64  \n",
      " 21  Months since last delinquent nan  7500 non-null   int64  \n",
      " 22  Credit Score nan                  7500 non-null   int64  \n",
      " 23  business loan                     7500 non-null   uint8  \n",
      " 24  buy a car                         7500 non-null   uint8  \n",
      " 25  buy house                         7500 non-null   uint8  \n",
      " 26  debt consolidation                7500 non-null   uint8  \n",
      " 27  educational expenses              7500 non-null   uint8  \n",
      " 28  home improvements                 7500 non-null   uint8  \n",
      " 29  major purchase                    7500 non-null   uint8  \n",
      " 30  medical bills                     7500 non-null   uint8  \n",
      " 31  moving                            7500 non-null   uint8  \n",
      " 32  other_purpose                     7500 non-null   uint8  \n",
      " 33  small business                    7500 non-null   uint8  \n",
      " 34  take a trip                       7500 non-null   uint8  \n",
      " 35  wedding                           7500 non-null   uint8  \n",
      " 36  1 year                            7500 non-null   uint8  \n",
      " 37  10+ years                         7500 non-null   uint8  \n",
      " 38  2 years                           7500 non-null   uint8  \n",
      " 39  3 years                           7500 non-null   uint8  \n",
      " 40  4 years                           7500 non-null   uint8  \n",
      " 41  5 years                           7500 non-null   uint8  \n",
      " 42  6 years                           7500 non-null   uint8  \n",
      " 43  7 years                           7500 non-null   uint8  \n",
      " 44  8 years                           7500 non-null   uint8  \n",
      " 45  9 years                           7500 non-null   uint8  \n",
      " 46  less_than_1_year                  7500 non-null   uint8  \n",
      " 47  Home Mortgage                     7500 non-null   uint8  \n",
      " 48  Own Home                          7500 non-null   uint8  \n",
      " 49  Rent                              7500 non-null   uint8  \n",
      " 50  Term_bin                          7500 non-null   int64  \n",
      "dtypes: float64(14), int64(6), object(4), uint8(27)\n",
      "memory usage: 1.6+ MB\n"
     ]
    }
   ],
   "source": [
    "df_train.info()"
   ]
  },
  {
   "cell_type": "code",
   "execution_count": 477,
   "id": "4220defc",
   "metadata": {},
   "outputs": [
    {
     "name": "stdout",
     "output_type": "stream",
     "text": [
      "['Home Ownership', 'Annual Income', 'Years in current job', 'Tax Liens', 'Number of Open Accounts', 'Years of Credit History', 'Maximum Open Credit', 'Number of Credit Problems', 'Months since last delinquent', 'Bankruptcies', 'Purpose', 'Term', 'Current Loan Amount', 'Current Credit Balance', 'Monthly Debt', 'Credit Score', 'Credit Default', 'monthly_ratio', 'current_credit_bal_annual_incom', 'Years in current job nan', 'Bankruptcies_nan', 'Months since last delinquent nan', 'Credit Score nan', 'business loan', 'buy a car', 'buy house', 'debt consolidation', 'educational expenses', 'home improvements', 'major purchase', 'medical bills', 'moving', 'other_purpose', 'small business', 'take a trip', 'wedding', '1 year', '10+ years', '2 years', '3 years', '4 years', '5 years', '6 years', '7 years', '8 years', '9 years', 'less_than_1_year', 'Home Mortgage', 'Own Home', 'Rent', 'Term_bin']\n"
     ]
    }
   ],
   "source": [
    "total_features = df_train.columns.tolist()\n",
    "print(total_features)"
   ]
  },
  {
   "cell_type": "code",
   "execution_count": 478,
   "id": "c42755ba",
   "metadata": {},
   "outputs": [
    {
     "name": "stdout",
     "output_type": "stream",
     "text": [
      "50\n"
     ]
    }
   ],
   "source": [
    "total_features.remove('Credit Default')\n",
    "print(len(total_features))"
   ]
  },
  {
   "cell_type": "code",
   "execution_count": 479,
   "id": "30346789",
   "metadata": {},
   "outputs": [
    {
     "name": "stdout",
     "output_type": "stream",
     "text": [
      "4\n"
     ]
    }
   ],
   "source": [
    "obj_features = df_obj_features.columns.tolist()\n",
    "obj_features\n",
    "print(len(obj_features))"
   ]
  },
  {
   "cell_type": "code",
   "execution_count": 480,
   "id": "7841c104",
   "metadata": {},
   "outputs": [
    {
     "name": "stdout",
     "output_type": "stream",
     "text": [
      "['Annual Income', 'Tax Liens', 'Number of Open Accounts', 'Years of Credit History', 'Maximum Open Credit', 'Number of Credit Problems', 'Months since last delinquent', 'Bankruptcies', 'Current Loan Amount', 'Current Credit Balance', 'Monthly Debt', 'Credit Score', 'monthly_ratio', 'current_credit_bal_annual_incom', 'Years in current job nan', 'Bankruptcies_nan', 'Months since last delinquent nan', 'Credit Score nan', 'business loan', 'buy a car', 'buy house', 'debt consolidation', 'educational expenses', 'home improvements', 'major purchase', 'medical bills', 'moving', 'other_purpose', 'small business', 'take a trip', 'wedding', '1 year', '10+ years', '2 years', '3 years', '4 years', '5 years', '6 years', '7 years', '8 years', '9 years', 'less_than_1_year', 'Home Mortgage', 'Own Home', 'Rent', 'Term_bin']\n",
      "46\n"
     ]
    }
   ],
   "source": [
    "total_num_features = total_features\n",
    "\n",
    "for obj_feature in obj_features:\n",
    "    total_num_features.remove(obj_feature)\n",
    "    \n",
    "print(total_num_features)\n",
    "print(len(total_num_features))"
   ]
  },
  {
   "cell_type": "code",
   "execution_count": 481,
   "id": "f274a6f3",
   "metadata": {},
   "outputs": [
    {
     "name": "stdout",
     "output_type": "stream",
     "text": [
      "['Annual Income', 'Tax Liens', 'Number of Open Accounts', 'Years of Credit History', 'Maximum Open Credit', 'Number of Credit Problems', 'Months since last delinquent', 'Bankruptcies', 'Current Loan Amount', 'Current Credit Balance', 'Monthly Debt', 'Credit Score', 'monthly_ratio', 'current_credit_bal_annual_incom']\n",
      "14\n"
     ]
    }
   ],
   "source": [
    "num_features = df_num_features.columns.tolist()\n",
    "num_features += new_features\n",
    "print(num_features)\n",
    "print(len(num_features))"
   ]
  },
  {
   "cell_type": "code",
   "execution_count": 482,
   "id": "9120e506",
   "metadata": {},
   "outputs": [
    {
     "name": "stdout",
     "output_type": "stream",
     "text": [
      "['Years in current job nan', 'Bankruptcies_nan', 'Months since last delinquent nan', 'Credit Score nan', 'business loan', 'buy a car', 'buy house', 'debt consolidation', 'educational expenses', 'home improvements', 'major purchase', 'medical bills', 'moving', 'other_purpose', 'small business', 'take a trip', 'wedding', '1 year', '10+ years', '2 years', '3 years', '4 years', '5 years', '6 years', '7 years', '8 years', '9 years', 'less_than_1_year', 'Home Mortgage', 'Own Home', 'Rent', 'Term_bin']\n",
      "32\n"
     ]
    }
   ],
   "source": [
    "binary_features = total_num_features[:]\n",
    "for num_feature in num_features:\n",
    "    binary_features.remove(num_feature)\n",
    "print(binary_features)\n",
    "print(len(binary_features))"
   ]
  },
  {
   "cell_type": "code",
   "execution_count": 483,
   "id": "3b47f048",
   "metadata": {},
   "outputs": [],
   "source": [
    "for i in binary_features:\n",
    "    df_train[i] = df_train[i].astype(np.int8)"
   ]
  },
  {
   "cell_type": "markdown",
   "id": "a1e3186f",
   "metadata": {},
   "source": [
    "total_features - все фичи кроме целевой<br>\n",
    "obj_features - категориальные фичи<br>\n",
    "total_num_features - все фичи кроме категориальных (они здесь в виде бинарных)<br>\n",
    "num_features - числовые фичи<br>\n",
    "binary_features - бинарные фичи(преобразованные категориальные и дополнительные связанные с заполнением пропусков)<br>\n",
    "new_features - новые фичи<br>\n",
    "final_features - окончательные фичи<br>\n",
    "non_important_features - малозначимые фичи<br>"
   ]
  },
  {
   "cell_type": "code",
   "execution_count": 484,
   "id": "8a71ef35",
   "metadata": {},
   "outputs": [],
   "source": [
    "FEATURE_NAMES = total_num_features\n",
    "TARGET_NAME = 'Credit Default'"
   ]
  },
  {
   "cell_type": "markdown",
   "id": "8ab69fe9",
   "metadata": {},
   "source": [
    "### Значимость признаков¶"
   ]
  },
  {
   "cell_type": "code",
   "execution_count": 485,
   "id": "90d9c3b0",
   "metadata": {},
   "outputs": [
    {
     "data": {
      "image/png": "[encoded data removed]",
      "text/plain": [
       "<Figure size 1440x1152 with 1 Axes>"
      ]
     },
     "metadata": {
      "needs_background": "light"
     },
     "output_type": "display_data"
    }
   ],
   "source": [
    "corr_with_target = df_train[FEATURE_NAMES + [TARGET_NAME]].corr().iloc[:-1, -1].sort_values(ascending=False)\n",
    "\n",
    "plt.figure(figsize=(20, 16))\n",
    "\n",
    "sns.barplot(x=corr_with_target.values, y=corr_with_target.index)\n",
    "\n",
    "plt.title('Correlation with target variable')\n",
    "plt.show()"
   ]
  },
  {
   "cell_type": "code",
   "execution_count": 486,
   "id": "7cfd2c58",
   "metadata": {},
   "outputs": [
    {
     "name": "stdout",
     "output_type": "stream",
     "text": [
      "Years in current job nan            0.044393\n",
      "business loan                       0.042531\n",
      "small business                      0.033661\n",
      "Number of Open Accounts             0.028884\n",
      "Tax Liens                           0.024368\n",
      "Number of Credit Problems           0.020088\n",
      "Monthly Debt                        0.018480\n",
      "10+ years                           0.012023\n",
      "other_purpose                       0.011217\n",
      "Own Home                            0.010260\n",
      "medical bills                       0.006112\n",
      "6 years                             0.005099\n",
      "Months since last delinquent        0.002830\n",
      "Bankruptcies                        0.001640\n",
      "less_than_1_year                    0.000432\n",
      "Bankruptcies_nan                    0.000383\n",
      "1 year                              0.000008\n",
      "5 years                            -0.000438\n",
      "7 years                            -0.000751\n",
      "4 years                            -0.001387\n",
      "wedding                            -0.001499\n",
      "take a trip                        -0.001794\n",
      "buy house                          -0.002554\n",
      "8 years                            -0.005005\n",
      "3 years                            -0.005032\n",
      "2 years                            -0.005710\n",
      "monthly_ratio                      -0.007232\n",
      "current_credit_bal_annual_incom    -0.007232\n",
      "buy a car                          -0.008033\n",
      "moving                             -0.008512\n",
      "major purchase                     -0.009235\n",
      "home improvements                  -0.010503\n",
      "Months since last delinquent nan   -0.011756\n",
      "9 years                            -0.012936\n",
      "Maximum Open Credit                -0.014275\n",
      "educational expenses               -0.014762\n",
      "debt consolidation                 -0.015075\n",
      "Current Credit Balance             -0.019522\n",
      "Years of Credit History            -0.020567\n",
      "Name: Credit Default, dtype: float64\n"
     ]
    }
   ],
   "source": [
    "non_important_features = corr_with_target[abs(corr_with_target)< 0.05]\n",
    "print(non_important_features)"
   ]
  },
  {
   "cell_type": "code",
   "execution_count": 487,
   "id": "20cc7a66",
   "metadata": {},
   "outputs": [],
   "source": [
    "non_important_features = non_important_features.to_frame().T"
   ]
  },
  {
   "cell_type": "code",
   "execution_count": 488,
   "id": "17865e27",
   "metadata": {},
   "outputs": [],
   "source": [
    "non_important_features = non_important_features.columns.tolist()\n"
   ]
  },
  {
   "cell_type": "code",
   "execution_count": 489,
   "id": "4c44bf03",
   "metadata": {},
   "outputs": [
    {
     "data": {
      "text/plain": [
       "['Annual Income',\n",
       " 'Current Loan Amount',\n",
       " 'Credit Score',\n",
       " 'Credit Score nan',\n",
       " 'Home Mortgage',\n",
       " 'Rent',\n",
       " 'Term_bin']"
      ]
     },
     "execution_count": 489,
     "metadata": {},
     "output_type": "execute_result"
    }
   ],
   "source": [
    "final_features = total_num_features\n",
    "for fi in non_important_features:\n",
    "    final_features.remove(fi)\n",
    "final_features"
   ]
  },
  {
   "cell_type": "code",
   "execution_count": 490,
   "id": "095d6f01",
   "metadata": {},
   "outputs": [],
   "source": [
    "scaler = MinMaxScaler(feature_range = (0,1))#RobustScaler() StandardScaler() \n",
    "\n",
    "df_train_norm = df_train.copy()\n",
    "df_train_norm[total_num_features] = scaler.fit_transform(df_train_norm[total_num_features])\n",
    "df_train = df_train_norm.copy()"
   ]
  },
  {
   "cell_type": "code",
   "execution_count": 491,
   "id": "2ef883e5",
   "metadata": {},
   "outputs": [],
   "source": [
    "X = df_train[final_features]\n",
    "y = df_train[TARGET_NAME]\n",
    "\n",
    "X_train, X_test, y_train, y_test = train_test_split(X, y, shuffle=True, test_size=0.25, random_state=777)"
   ]
  },
  {
   "cell_type": "code",
   "execution_count": 492,
   "id": "e864066b",
   "metadata": {},
   "outputs": [
    {
     "data": {
      "text/plain": [
       "0    4037\n",
       "1    3176\n",
       "Name: Credit Default, dtype: int64"
      ]
     },
     "execution_count": 492,
     "metadata": {},
     "output_type": "execute_result"
    }
   ],
   "source": [
    "df_for_balancing = pd.concat([X_train, y_train], axis=1)\n",
    "df_balanced = balance_df_by_target(df_for_balancing, TARGET_NAME)\n",
    "    \n",
    "df_balanced[TARGET_NAME].value_counts()"
   ]
  },
  {
   "cell_type": "code",
   "execution_count": 493,
   "id": "e0127dd4",
   "metadata": {},
   "outputs": [],
   "source": [
    "X_train = df_balanced.drop(columns=TARGET_NAME)\n",
    "y_train = df_balanced[TARGET_NAME]"
   ]
  },
  {
   "cell_type": "markdown",
   "id": "3218209b",
   "metadata": {},
   "source": [
    "### Финальная модель"
   ]
  },
  {
   "cell_type": "code",
   "execution_count": 494,
   "id": "0a45b8ce",
   "metadata": {},
   "outputs": [
    {
     "name": "stdout",
     "output_type": "stream",
     "text": [
      "TRAIN\n",
      "\n",
      "              precision    recall  f1-score   support\n",
      "\n",
      "           0       0.70      0.74      0.72      4037\n",
      "           1       0.64      0.61      0.62      3176\n",
      "\n",
      "    accuracy                           0.68      7213\n",
      "   macro avg       0.67      0.67      0.67      7213\n",
      "weighted avg       0.68      0.68      0.68      7213\n",
      "\n",
      "TEST\n",
      "\n",
      "              precision    recall  f1-score   support\n",
      "\n",
      "           0       0.84      0.74      0.79      1350\n",
      "           1       0.49      0.63      0.55       525\n",
      "\n",
      "    accuracy                           0.71      1875\n",
      "   macro avg       0.66      0.68      0.67      1875\n",
      "weighted avg       0.74      0.71      0.72      1875\n",
      "\n",
      "CONFUSION MATRIX\n",
      "\n",
      "col_0              0    1\n",
      "Credit Default           \n",
      "0               1000  350\n",
      "1                195  330\n"
     ]
    }
   ],
   "source": [
    "model_lr = LogisticRegression(max_iter=20, solver='newton-cg', class_weight='balanced', random_state=777)\n",
    "model_lr.fit(X_train, y_train)\n",
    "\n",
    "y_train_pred = model_lr.predict(X_train)\n",
    "y_test_pred = model_lr.predict(X_test)\n",
    "\n",
    "get_classification_report(y_train, y_train_pred, y_test, y_test_pred)"
   ]
  },
  {
   "cell_type": "code",
   "execution_count": 495,
   "id": "4e8aea16",
   "metadata": {},
   "outputs": [],
   "source": [
    "def df_test_preparation(df_test):\n",
    "    #Пропуски\n",
    "    df_test['Annual Income'] = df_test['Annual Income'].fillna(median_ai)\n",
    "    df_test['Years in current job'] = df_test['Years in current job'].fillna(mode_yicj)\n",
    "    df_test['Bankruptcies'] = df_test['Bankruptcies'].fillna(median_b)\n",
    "    df_test['Months since last delinquent'] = df_test['Months since last delinquent'].fillna(median_msld)\n",
    "    df_test['Credit Score'] = df_test['Credit Score'].fillna(median_cs)\n",
    "    #New features\n",
    "    df_test['monthly_ratio'] = 0\n",
    "    df_test.loc[df_test['monthly_ratio'], 'monthly_ratio'] = df_test['Annual Income']/(12 * df_test['Monthly Debt'])\n",
    "    \n",
    "    df_test['current_credit_bal_annual_incom']=0\n",
    "    df_test.loc[df_test['current_credit_bal_annual_incom'], 'current_credit_bal_annual_incom'] = df_test['Annual Income']* df_test['Current Credit Balance']\n",
    "    new_features = ['monthly_ratio', 'current_credit_bal_annual_incom']\n",
    "    \n",
    "    #пропуски\n",
    "    df_test['Years in current job nan'] = 0\n",
    "    df_test.loc[df_test['Years in current job'].isna(), 'Years in current job nan'] = 1\n",
    "    \n",
    "    df_test['Bankruptcies_nan'] = 0\n",
    "    df_test.loc[df_test['Bankruptcies'].isna(), 'Bankruptcies_nan'] = 1\n",
    "    \n",
    "    df_test['Months since last delinquent nan'] = 0\n",
    "    df_test.loc[df_test['Months since last delinquent'].isna(), 'Months since last delinquent nan'] = 1\n",
    "    \n",
    "    df_test['Credit Score nan'] = 0\n",
    "    df_test.loc[df_test['Credit Score'].isna(), 'Credit Score nan'] = 1\n",
    "    \n",
    "    df_test.replace({'Purpose': {'other': 'other_purpose', 'renewable energy' :'other_purpose', 'vacation' : 'other_purpose'}}, inplace=True)\n",
    "    df_test.replace({'Years in current job': {'< 1 year': 'less_than_1_year'}}, inplace=True)\n",
    "    df_test.replace({'Home Ownership': {'Have Mortgage': 'Home Mortgage'}}, inplace=True)\n",
    "    \n",
    "    df_bin_features_Home_Ownership = pd.get_dummies(df_test['Home Ownership'])\n",
    "    df_bin_features_Years_in_current_job = pd.get_dummies(df_test['Years in current job'])\n",
    "    df_bin_features_Purpose = pd.get_dummies(df_test['Purpose'])\n",
    "    df_test = pd.concat([df_test, df_bin_features_Purpose, df_bin_features_Years_in_current_job, df_bin_features_Home_Ownership], axis=1)\n",
    "    df_test['Term_bin'] = dummies_short_long(df_test, 'Term', 'Term_bin')\n",
    "    \n",
    "    scaler = MinMaxScaler(feature_range = (0,1))\n",
    "    df_test_norm = df_test.copy()\n",
    "    df_test_norm[total_num_features] = scaler.fit_transform(df_test_norm[total_num_features])\n",
    "    df_test = df_test_norm.copy()\n",
    "   \n",
    "\n",
    "    return df_test"
   ]
  },
  {
   "cell_type": "code",
   "execution_count": 496,
   "id": "44a112a4",
   "metadata": {},
   "outputs": [],
   "source": [
    "df_test = df_test_preparation(df_test)"
   ]
  },
  {
   "cell_type": "code",
   "execution_count": 497,
   "id": "1cb9ca8a",
   "metadata": {},
   "outputs": [],
   "source": [
    "X_test = df_test[final_features]"
   ]
  },
  {
   "cell_type": "code",
   "execution_count": 498,
   "id": "8efbf2a7",
   "metadata": {},
   "outputs": [],
   "source": [
    "y_test_pred = model_lr.predict(X_test)"
   ]
  },
  {
   "cell_type": "code",
   "execution_count": 499,
   "id": "54d2555a",
   "metadata": {},
   "outputs": [],
   "source": [
    "RuslanDziov_predictions = pd.DataFrame()"
   ]
  },
  {
   "cell_type": "code",
   "execution_count": 500,
   "id": "3cb82057",
   "metadata": {},
   "outputs": [
    {
     "data": {
      "text/html": [
       "<div>\n",
       "<style scoped>\n",
       "    .dataframe tbody tr th:only-of-type {\n",
       "        vertical-align: middle;\n",
       "    }\n",
       "\n",
       "    .dataframe tbody tr th {\n",
       "        vertical-align: top;\n",
       "    }\n",
       "\n",
       "    .dataframe thead th {\n",
       "        text-align: right;\n",
       "    }\n",
       "</style>\n",
       "<table border=\"1\" class=\"dataframe\">\n",
       "  <thead>\n",
       "    <tr style=\"text-align: right;\">\n",
       "      <th></th>\n",
       "      <th>Credit Default</th>\n",
       "    </tr>\n",
       "  </thead>\n",
       "  <tbody>\n",
       "    <tr>\n",
       "      <th>0</th>\n",
       "      <td>0</td>\n",
       "    </tr>\n",
       "    <tr>\n",
       "      <th>1</th>\n",
       "      <td>1</td>\n",
       "    </tr>\n",
       "    <tr>\n",
       "      <th>2</th>\n",
       "      <td>1</td>\n",
       "    </tr>\n",
       "    <tr>\n",
       "      <th>3</th>\n",
       "      <td>0</td>\n",
       "    </tr>\n",
       "    <tr>\n",
       "      <th>4</th>\n",
       "      <td>1</td>\n",
       "    </tr>\n",
       "    <tr>\n",
       "      <th>...</th>\n",
       "      <td>...</td>\n",
       "    </tr>\n",
       "    <tr>\n",
       "      <th>2495</th>\n",
       "      <td>0</td>\n",
       "    </tr>\n",
       "    <tr>\n",
       "      <th>2496</th>\n",
       "      <td>0</td>\n",
       "    </tr>\n",
       "    <tr>\n",
       "      <th>2497</th>\n",
       "      <td>0</td>\n",
       "    </tr>\n",
       "    <tr>\n",
       "      <th>2498</th>\n",
       "      <td>0</td>\n",
       "    </tr>\n",
       "    <tr>\n",
       "      <th>2499</th>\n",
       "      <td>1</td>\n",
       "    </tr>\n",
       "  </tbody>\n",
       "</table>\n",
       "<p>2500 rows × 1 columns</p>\n",
       "</div>"
      ],
      "text/plain": [
       "      Credit Default\n",
       "0                  0\n",
       "1                  1\n",
       "2                  1\n",
       "3                  0\n",
       "4                  1\n",
       "...              ...\n",
       "2495               0\n",
       "2496               0\n",
       "2497               0\n",
       "2498               0\n",
       "2499               1\n",
       "\n",
       "[2500 rows x 1 columns]"
      ]
     },
     "execution_count": 500,
     "metadata": {},
     "output_type": "execute_result"
    }
   ],
   "source": [
    "RuslanDziov_predictions['Credit Default'] = y_test_pred\n",
    "RuslanDziov_predictions"
   ]
  },
  {
   "cell_type": "code",
   "execution_count": 501,
   "id": "6f4ee245",
   "metadata": {},
   "outputs": [],
   "source": [
    "RuslanDziov_predictions.to_csv('RuslanDziov_predictions.csv', index=False)"
   ]
  },
  {
   "cell_type": "code",
   "execution_count": 502,
   "id": "9f66d9ba",
   "metadata": {},
   "outputs": [],
   "source": [
    "with open(MODEL_FILE_PATH, 'wb') as file:\n",
    "    pickle.dump(model_lr, file)"
   ]
  },
  {
   "cell_type": "code",
   "execution_count": null,
   "id": "a84fc7b8",
   "metadata": {},
   "outputs": [],
   "source": []
  }
 ],
 "metadata": {
  "kernelspec": {
   "display_name": "Python 3",
   "language": "python",
   "name": "python3"
  },
  "language_info": {
   "codemirror_mode": {
    "name": "ipython",
    "version": 3
   },
   "file_extension": ".py",
   "mimetype": "text/x-python",
   "name": "python",
   "nbconvert_exporter": "python",
   "pygments_lexer": "ipython3",
   "version": "3.8.8"
  }
 },
 "nbformat": 4,
 "nbformat_minor": 5
}
